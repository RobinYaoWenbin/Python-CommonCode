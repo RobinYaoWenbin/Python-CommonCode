{
 "cells": [
  {
   "cell_type": "code",
   "execution_count": 21,
   "metadata": {},
   "outputs": [],
   "source": [
    "import numpy as np\n",
    "import pandas as pd\n",
    "import matplotlib.pyplot as plt\n",
    "from sko.GA import GA"
   ]
  },
  {
   "cell_type": "markdown",
   "metadata": {},
   "source": [
    "# 官方Demo\n",
    "## 1.定义问题"
   ]
  },
  {
   "cell_type": "code",
   "execution_count": 22,
   "metadata": {},
   "outputs": [],
   "source": [
    "def schaffer(p):\n",
    "    '''\n",
    "    This function has plenty of local minimum, with strong shocks\n",
    "    global minimum at (0,0) with value 0\n",
    "    '''\n",
    "    x1, x2 = p\n",
    "    x = np.square(x1) + np.square(x2)\n",
    "    return 0.5 + (np.sin(x) - 0.5) / np.square(1 + 0.001 * x)"
   ]
  },
  {
   "cell_type": "markdown",
   "metadata": {},
   "source": [
    "## 2.运行遗传算法"
   ]
  },
  {
   "cell_type": "code",
   "execution_count": 23,
   "metadata": {},
   "outputs": [
    {
     "name": "stdout",
     "output_type": "stream",
     "text": [
      "best_x: [2.98023233e-08 2.98023233e-08] \n",
      " best_y: [1.77635684e-15]\n"
     ]
    }
   ],
   "source": [
    "ga = GA(func=schaffer, n_dim=2, size_pop=50, max_iter=800, lb=[-1, -1], ub=[1, 1], \n",
    "        precision=1e-7,prob_mut = 0.001)\n",
    "best_x, best_y = ga.run()\n",
    "print('best_x:', best_x, '\\n', 'best_y:', best_y)"
   ]
  },
  {
   "cell_type": "markdown",
   "metadata": {},
   "source": [
    "## 3.plot the result"
   ]
  },
  {
   "cell_type": "code",
   "execution_count": 24,
   "metadata": {
    "scrolled": false
   },
   "outputs": [
    {
     "data": {
      "image/png": "[encoded data removed]",
      "text/plain": [
       "<Figure size 432x288 with 2 Axes>"
      ]
     },
     "metadata": {},
     "output_type": "display_data"
    }
   ],
   "source": [
    "Y_history = pd.DataFrame(ga.all_history_Y)\n",
    "fig, ax = plt.subplots(2, 1)\n",
    "ax[0].plot(Y_history.index, Y_history.values, '.', color='red')\n",
    "Y_history.min(axis=1).cummin().plot(kind='line')\n",
    "plt.show()"
   ]
  },
  {
   "cell_type": "markdown",
   "metadata": {},
   "source": [
    "## 4.加入一些约束条件的优化问题\n",
    "官方给的demo里并没有给出怎么加约束条件，不过看一下源码和demo可以知道，下面就上面的问题给出一个例子。\n",
    "\n",
    "源码关于等式约束和不等式约束的说明，源码的注释应该是写反了，这个包貌似主要是由作者一个大佬在维护，相对来说，没有那么成熟：\n",
    "\n",
    "```python\n",
    "# constraint:\n",
    "self.has_constraint = len(constraint_eq) > 0 or len(constraint_ueq) > 0\n",
    "self.constraint_eq = list(constraint_eq)  # a list of unequal constraint functions with c[i] <= 0\n",
    "self.constraint_ueq = list(constraint_ueq)  # a list of equal functions with ceq[i] = 0\n",
    "```"
   ]
  },
  {
   "cell_type": "code",
   "execution_count": 25,
   "metadata": {},
   "outputs": [],
   "source": [
    "def schaffer(p):\n",
    "    '''\n",
    "    This function has plenty of local minimum, with strong shocks\n",
    "    global minimum at (0,0) with value 0\n",
    "    '''\n",
    "    x1, x2 = p\n",
    "    x = np.square(x1) + np.square(x2)\n",
    "    return 0.5 + (np.sin(x) - 0.5) / np.square(1 + 0.001 * x)"
   ]
  },
  {
   "cell_type": "code",
   "execution_count": 26,
   "metadata": {},
   "outputs": [],
   "source": [
    "# 定义等式约束和不等式约束\n",
    "constraint_eq = [\n",
    "    lambda x: 0.5 - x[0] - x[1]\n",
    "]\n",
    "\n",
    "# constraint_ueq = [\n",
    "#     lambda x: 1 - x[0] * x[1],\n",
    "#     lambda x: x[0] * x[1] - 5\n",
    "# ]"
   ]
  },
  {
   "cell_type": "code",
   "execution_count": 27,
   "metadata": {
    "scrolled": true
   },
   "outputs": [
    {
     "name": "stdout",
     "output_type": "stream",
     "text": [
      "best_x: [ 0.79146194 -0.29146192] \n",
      " best_y: [0.65264884]\n"
     ]
    }
   ],
   "source": [
    "ga = GA(func=schaffer, n_dim=2, size_pop=50, max_iter=800, lb=[-1, -1], ub=[1, 1], \n",
    "        constraint_eq=constraint_eq , \n",
    "        precision=1e-7,prob_mut = 0.001)\n",
    "best_x, best_y = ga.run()\n",
    "print('best_x:', best_x, '\\n', 'best_y:', best_y)"
   ]
  },
  {
   "cell_type": "code",
   "execution_count": 28,
   "metadata": {},
   "outputs": [
    {
     "data": {
      "text/plain": [
       "0.5000000149011616"
      ]
     },
     "execution_count": 28,
     "metadata": {},
     "output_type": "execute_result"
    }
   ],
   "source": [
    "#验证与喜爱看看两个相加是不是0.5\n",
    "sum(best_x)"
   ]
  },
  {
   "cell_type": "code",
   "execution_count": 29,
   "metadata": {
    "scrolled": true
   },
   "outputs": [
    {
     "data": {
      "image/png": "[encoded data removed]",
      "text/plain": [
       "<Figure size 432x288 with 2 Axes>"
      ]
     },
     "metadata": {},
     "output_type": "display_data"
    }
   ],
   "source": [
    "Y_history = pd.DataFrame(ga.all_history_Y)\n",
    "fig, ax = plt.subplots(2, 1)\n",
    "ax[0].plot(Y_history.index, Y_history.values, '.', color='red')\n",
    "Y_history.min(axis=1).cummin().plot(kind='line')\n",
    "plt.show()"
   ]
  },
  {
   "cell_type": "markdown",
   "metadata": {},
   "source": [
    "## 5.涉及矩阵运算怎么办？\n",
    "这边需要一提，这个包的function只能输入一维list，无法输入矩阵，那么目标函数以及约束条件需要用到矩阵运算怎么办，这边提供一个思路。"
   ]
  },
  {
   "cell_type": "code",
   "execution_count": 35,
   "metadata": {},
   "outputs": [],
   "source": [
    "def schaffer(p):\n",
    "    # 将一维的p转化为2维的矩阵\n",
    "    x = p.reshape(2,2)\n",
    "    return x[0][0] ** 2 + x[0][1] ** 2 + x[1][0] ** 2+ x[1][1] ** 2"
   ]
  },
  {
   "cell_type": "code",
   "execution_count": 36,
   "metadata": {},
   "outputs": [],
   "source": [
    "# 定义等式约束和不等式约束\n",
    "def constraint1(p):\n",
    "    x = p.reshape(2,2)\n",
    "    return (x[0][0] + x[0][1])\n",
    "    \n",
    "constraint_eq = [\n",
    "    constraint1\n",
    "]"
   ]
  },
  {
   "cell_type": "code",
   "execution_count": 37,
   "metadata": {
    "scrolled": true
   },
   "outputs": [
    {
     "name": "stdout",
     "output_type": "stream",
     "text": [
      "best_x: [ 1.72964191e-01 -1.72964191e-01  2.98023233e-08 -2.98023233e-08] \n",
      " best_y: [0.05983322]\n"
     ]
    }
   ],
   "source": [
    "ga = GA(func=schaffer, n_dim=4, size_pop=50, max_iter=800, lb=[-1,-1,-1,-1], ub=[1 ,1,1,1], \n",
    "        constraint_eq=constraint_eq , \n",
    "        precision=1e-7,prob_mut = 0.001)\n",
    "best_x, best_y = ga.run()\n",
    "print('best_x:', best_x, '\\n', 'best_y:', best_y)"
   ]
  },
  {
   "cell_type": "code",
   "execution_count": 38,
   "metadata": {},
   "outputs": [
    {
     "data": {
      "image/png": "[encoded data removed]",
      "text/plain": [
       "<Figure size 432x288 with 2 Axes>"
      ]
     },
     "metadata": {},
     "output_type": "display_data"
    }
   ],
   "source": [
    "Y_history = pd.DataFrame(ga.all_history_Y)\n",
    "fig, ax = plt.subplots(2, 1)\n",
    "ax[0].plot(Y_history.index, Y_history.values, '.', color='red')\n",
    "Y_history.min(axis=1).cummin().plot(kind='line')\n",
    "plt.show()"
   ]
  }
 ],
 "metadata": {
  "kernelspec": {
   "display_name": "Python 3",
   "language": "python",
   "name": "python3"
  },
  "language_info": {
   "codemirror_mode": {
    "name": "ipython",
    "version": 3
   },
   "file_extension": ".py",
   "mimetype": "text/x-python",
   "name": "python",
   "nbconvert_exporter": "python",
   "pygments_lexer": "ipython3",
   "version": "3.5.5"
  }
 },
 "nbformat": 4,
 "nbformat_minor": 2
}
