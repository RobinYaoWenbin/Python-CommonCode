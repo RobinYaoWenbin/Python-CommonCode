{
 "cells": [
  {
   "cell_type": "code",
   "execution_count": 1,
   "metadata": {},
   "outputs": [],
   "source": [
    "import numpy as np"
   ]
  },
  {
   "cell_type": "markdown",
   "metadata": {},
   "source": [
    "**定义各阶矩阵的RI大小**"
   ]
  },
  {
   "cell_type": "code",
   "execution_count": 2,
   "metadata": {},
   "outputs": [],
   "source": [
    "RI_dict = {1: 0, 2: 0, 3: 0.58, 4: 0.90, 5: 1.12, 6: 1.24, 7: 1.32, 8: 1.41, 9: 1.45}"
   ]
  },
  {
   "cell_type": "markdown",
   "metadata": {},
   "source": [
    "**定义计算出一个判断矩阵的一致性指标以及最大特征根的归一化特征向量的函数。**\n",
    "\n",
    "输入：np.array格式的一个二维矩阵，该二维矩阵的含义是判断矩阵。\n",
    "\n",
    "输出：若没有通过一致性检验，则输出提示信息：没有通过一致性检验。若通过一致性检验，则输出提示信息，并返回归一化的特征向量。"
   ]
  },
  {
   "cell_type": "code",
   "execution_count": 7,
   "metadata": {},
   "outputs": [],
   "source": [
    "# 出入判断矩阵，判断矩阵需要是numpy格式的，若通过一致性检验则返回最大特征根的特征向量，若不通过，则输出提示。\n",
    "def get_w(array):\n",
    "    row = array.shape[0]  # 计算出阶数\n",
    "    a_axis_0_sum = array.sum(axis=0)\n",
    "    # print(a_axis_0_sum)\n",
    "    b = array / a_axis_0_sum  # 新的矩阵b\n",
    "    # print(b)\n",
    "    b_axis_0_sum = b.sum(axis=0)\n",
    "    b_axis_1_sum = b.sum(axis=1)  # 每一行的特征向量\n",
    "    # print(b_axis_1_sum)\n",
    "    w = b_axis_1_sum / row  # 归一化处理(特征向量)\n",
    "    nw = w * row\n",
    "    AW = (w * array).sum(axis=1)\n",
    "    # print(AW)\n",
    "    max_max = sum(AW / (row * w))\n",
    "    # print(max_max)\n",
    "    CI = (max_max - row) / (row - 1)\n",
    "    CR = CI / RI_dict[row]\n",
    "    if CR < 0.1:\n",
    "        print(round(CR, 3))\n",
    "        print('满足一致性')\n",
    "        print(\"权重特征向量为:\" , w)\n",
    "#         print(np.max(w))\n",
    "#         print(sorted(w,reverse=True))\n",
    "#         print(max_max)\n",
    "#         print('特征向量:%s' % w)\n",
    "        return w\n",
    "    else:\n",
    "        print(round(CR, 3))\n",
    "        print('不满足一致性，请进行修改')"
   ]
  },
  {
   "cell_type": "markdown",
   "metadata": {},
   "source": [
    "**对输入数据进行格式判断，若正确则调用get_w(array)进行计算，若不正确则输出提示信息。**"
   ]
  },
  {
   "cell_type": "code",
   "execution_count": 10,
   "metadata": {},
   "outputs": [],
   "source": [
    "def main(array):\n",
    "    # 判断下判断矩阵array的数据类型，并给出提示，若格式正确，则可继续下一步计算一致性和特征向量\n",
    "    if type(array) is np.ndarray:\n",
    "        return get_w(array)\n",
    "    else:\n",
    "        print('请输入numpy对象')"
   ]
  },
  {
   "cell_type": "markdown",
   "metadata": {},
   "source": [
    "**对博文中选干部的例子进行了计算，具体说明我都做了注释。博文连接：https://www.cnblogs.com/yhll/p/9967726.html**\n",
    "\n",
    "感谢大佬！"
   ]
  },
  {
   "cell_type": "code",
   "execution_count": 19,
   "metadata": {},
   "outputs": [
    {
     "name": "stdout",
     "output_type": "stream",
     "text": [
      "0.016\n",
      "满足一致性\n",
      "权重特征向量为: [0.47439499 0.26228108 0.0544921  0.09853357 0.11029827]\n",
      "0.001\n",
      "满足一致性\n",
      "权重特征向量为: [0.08199023 0.23644689 0.68156288]\n",
      "0.005\n",
      "满足一致性\n",
      "权重特征向量为: [0.59488796 0.27661064 0.1285014 ]\n",
      "0.0\n",
      "满足一致性\n",
      "权重特征向量为: [0.42857143 0.42857143 0.14285714]\n",
      "0.008\n",
      "满足一致性\n",
      "权重特征向量为: [0.63274854 0.19239766 0.1748538 ]\n",
      "0.046\n",
      "满足一致性\n",
      "权重特征向量为: [0.34595035 0.11029711 0.54375254]\n",
      "总排序： [0.31878206 0.23919592 0.44202202]\n"
     ]
    }
   ],
   "source": [
    "if __name__ == '__main__':\n",
    "    # 定义判断矩阵\n",
    "    e = np.array([[1, 2, 7, 5, 5], [1 / 2, 1, 4, 3, 3], [1 / 7, 1 / 4, 1, 1 / 2, 1 / 3], \\\n",
    "                  [1 / 5, 1 / 3, 2, 1, 1], [1 / 5, 1 / 3, 3, 1, 1]])  # 准则层对目标层判断矩阵\n",
    "    a = np.array([[1, 1 / 3, 1 / 8], [3, 1, 1 / 3], [8, 3, 1]])  # 对B1的判断矩阵\n",
    "    b = np.array([[1, 2, 5], [1 / 2, 1, 2], [1 / 5, 1 / 2, 1]]) # 对B2的判断矩阵\n",
    "    c = np.array([[1, 1, 3], [1, 1, 3], [1 / 3, 1 / 3, 1]]) # 对B3的判断矩阵\n",
    "    d = np.array([[1, 3, 4], [1 / 3, 1, 1], [1 / 4, 1, 1]]) # 对B4的判断矩阵\n",
    "    f = np.array([[1, 4, 1 / 2], [1 / 4, 1, 1 / 4], [2, 4, 1]])  # 对B5的判断矩阵\n",
    "    # 进行一致性检验，并计算特征向量\n",
    "    e = main(e)  # 一致性检验并得到判断矩阵\n",
    "    a = main(a)# 一致性检验并得到判断矩阵\n",
    "    b = main(b)# 一致性检验并得到判断矩阵\n",
    "    c = main(c)# 一致性检验并得到判断矩阵\n",
    "    d = main(d)# 一致性检验并得到判断矩阵\n",
    "    f = main(f)# 一致性检验并得到判断矩阵\n",
    "    try:\n",
    "        res = np.array([a, b, c, d, f])  # 将方案层对准则层的各归一化特征向量组合起来得到矩阵\n",
    "#         ret = (np.transpose(res) * e).sum(axis=1)\n",
    "        ret = np.dot(np.transpose(res) , e)  # 计算出最底层对最高层的总排序的权值\n",
    "        print(\"总排序：\" , ret)  # 总排序\n",
    "    except TypeError:\n",
    "        print('数据有误，可能不满足一致性，请进行修改')"
   ]
  }
 ],
 "metadata": {
  "kernelspec": {
   "display_name": "Python 3",
   "language": "python",
   "name": "python3"
  },
  "language_info": {
   "codemirror_mode": {
    "name": "ipython",
    "version": 3
   },
   "file_extension": ".py",
   "mimetype": "text/x-python",
   "name": "python",
   "nbconvert_exporter": "python",
   "pygments_lexer": "ipython3",
   "version": "3.5.5"
  }
 },
 "nbformat": 4,
 "nbformat_minor": 2
}
