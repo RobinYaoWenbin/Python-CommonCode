{
 "cells": [
  {
   "cell_type": "markdown",
   "metadata": {},
   "source": [
    "# 0.前言\n",
    "这个文档主要是用来入门下XGBOOST，主要就是参考的https://blog.csdn.net/qq_24519677/article/details/81869196"
   ]
  },
  {
   "cell_type": "code",
   "execution_count": 15,
   "metadata": {
    "scrolled": true
   },
   "outputs": [],
   "source": [
    "import pandas as pd\n",
    "import numpy as np\n",
    "import matplotlib.pyplot as plt\n",
    "import seaborn as sns\n",
    "import xgboost as xgb\n",
    "from sklearn.model_selection import train_test_split\n",
    "from sklearn import preprocessing \n",
    "from sklearn.model_selection import GridSearchCV\n",
    "from sklearn.linear_model import LogisticRegression\n",
    "from sklearn.ensemble import RandomForestClassifier\n",
    "from sklearn.ensemble import GradientBoostingClassifier\n",
    "from sklearn import cross_validation\n",
    "from sklearn.preprocessing import LabelEncoder\n",
    "import sklearn\n",
    " \n",
    "import warnings\n",
    "warnings.filterwarnings('ignore')"
   ]
  },
  {
   "cell_type": "markdown",
   "metadata": {},
   "source": [
    "# 1.数据特征处理"
   ]
  },
  {
   "cell_type": "code",
   "execution_count": 7,
   "metadata": {
    "scrolled": false
   },
   "outputs": [
    {
     "name": "stdout",
     "output_type": "stream",
     "text": [
      "<class 'pandas.core.frame.DataFrame'>\n",
      "RangeIndex: 891 entries, 0 to 890\n",
      "Data columns (total 12 columns):\n",
      "PassengerId    891 non-null int64\n",
      "Survived       891 non-null int64\n",
      "Pclass         891 non-null int64\n",
      "Name           891 non-null object\n",
      "Sex            891 non-null object\n",
      "Age            714 non-null float64\n",
      "SibSp          891 non-null int64\n",
      "Parch          891 non-null int64\n",
      "Ticket         891 non-null object\n",
      "Fare           891 non-null float64\n",
      "Cabin          204 non-null object\n",
      "Embarked       889 non-null object\n",
      "dtypes: float64(2), int64(5), object(5)\n",
      "memory usage: 83.6+ KB\n"
     ]
    }
   ],
   "source": [
    "train = pd.read_csv('data/train.csv')\n",
    "test = pd.read_csv('data/test.csv')\n",
    "train.info()  # 打印训练数据的信息"
   ]
  },
  {
   "cell_type": "code",
   "execution_count": 8,
   "metadata": {},
   "outputs": [
    {
     "name": "stdout",
     "output_type": "stream",
     "text": [
      "<class 'pandas.core.frame.DataFrame'>\n",
      "RangeIndex: 418 entries, 0 to 417\n",
      "Data columns (total 11 columns):\n",
      "PassengerId    418 non-null int64\n",
      "Pclass         418 non-null int64\n",
      "Name           418 non-null object\n",
      "Sex            418 non-null object\n",
      "Age            332 non-null float64\n",
      "SibSp          418 non-null int64\n",
      "Parch          418 non-null int64\n",
      "Ticket         418 non-null object\n",
      "Fare           417 non-null float64\n",
      "Cabin          91 non-null object\n",
      "Embarked       418 non-null object\n",
      "dtypes: float64(2), int64(4), object(5)\n",
      "memory usage: 36.0+ KB\n"
     ]
    }
   ],
   "source": [
    "test.info()"
   ]
  },
  {
   "cell_type": "markdown",
   "metadata": {},
   "source": [
    "对数据的缺失值进行处理，这里采用的方法是对连续值用该列的平均值进行填充，非连续值用该列的众数进行填充，还可以使用机器学习的模型对缺失值进行预测，用预测的值来填充缺失值，该方法这里不做介绍："
   ]
  },
  {
   "cell_type": "code",
   "execution_count": 9,
   "metadata": {},
   "outputs": [],
   "source": [
    "def handle_na(train, test):  # 将Cabin特征删除\n",
    "    fare_mean = train['Fare'].mean()  # 测试集的fare特征有缺失值，用训练数据的均值填充\n",
    "    test.loc[pd.isnull(test.Fare), 'Fare'] = fare_mean\n",
    " \n",
    "    embarked_mode = train['Embarked'].mode()  # 用众数填充\n",
    "    train.loc[pd.isnull(train.Embarked), 'Embarked'] = embarked_mode[0]\n",
    "    \n",
    "    train.loc[pd.isnull(train.Age), 'Age'] = train['Age'].mean()  # 用均值填充年龄\n",
    "    test.loc[pd.isnull(test.Age), 'Age'] = train['Age'].mean()\n",
    "    return train, test\n",
    " \n",
    "new_train, new_test = handle_na(train, test)  # 填充缺失值"
   ]
  },
  {
   "cell_type": "markdown",
   "metadata": {},
   "source": [
    "由于Embarked，Sex，Pclass特征是离散特征，所以对其进行one-hot/get_dummies编码"
   ]
  },
  {
   "cell_type": "code",
   "execution_count": 10,
   "metadata": {},
   "outputs": [],
   "source": [
    "# 对Embarked和male特征进行one-hot/get_dummies编码\n",
    "new_train = pd.get_dummies(new_train, columns=['Embarked', 'Sex', 'Pclass'])\n",
    "new_test = pd.get_dummies(new_test, columns=['Embarked', 'Sex', 'Pclass'])"
   ]
  },
  {
   "cell_type": "markdown",
   "metadata": {},
   "source": [
    "然后再去除掉PassengerId，Name，Ticket，Cabin, Survived列，这里不使用这些特征做预测"
   ]
  },
  {
   "cell_type": "code",
   "execution_count": 11,
   "metadata": {},
   "outputs": [],
   "source": [
    "target = new_train['Survived'].values\n",
    "# 删除PassengerId，Name，Ticket，Cabin, Survived列\n",
    "df_train = new_train.drop(['PassengerId','Name','Ticket','Cabin','Survived'], axis=1).values\n",
    "df_test = new_test.drop(['PassengerId','Name','Ticket','Cabin'], axis=1).values"
   ]
  },
  {
   "cell_type": "markdown",
   "metadata": {},
   "source": [
    "# 2.XGBoost模型\n",
    "## 2.1使用XGBoost原生版本模型"
   ]
  },
  {
   "cell_type": "code",
   "execution_count": 12,
   "metadata": {},
   "outputs": [
    {
     "name": "stdout",
     "output_type": "stream",
     "text": [
      "[0]\ttest-error:0.231343\ttrain-error:0.126806\n",
      "[1]\ttest-error:0.227612\ttrain-error:0.117175\n",
      "[2]\ttest-error:0.223881\ttrain-error:0.104334\n",
      "样本总数：268\n",
      "正确数目：208\n",
      "正确率：0.776\n"
     ]
    }
   ],
   "source": [
    "X_train,X_test,y_train,y_test = train_test_split(df_train,target,test_size = 0.3,random_state = 1) # 将数据划分为训练集和测试集\n",
    " \n",
    "data_train = xgb.DMatrix(X_train, y_train)  # 使用XGBoost的原生版本需要对数据进行转化\n",
    "data_test = xgb.DMatrix(X_test, y_test)\n",
    " \n",
    "param = {'max_depth': 5, 'eta': 1, 'objective': 'binary:logistic'}\n",
    "watchlist = [(data_test, 'test'), (data_train, 'train')]\n",
    "n_round = 3  # 迭代训练3轮\n",
    "booster = xgb.train(param, data_train, num_boost_round=n_round, evals=watchlist)\n",
    " \n",
    "# 计算错误率\n",
    "y_predicted = booster.predict(data_test)\n",
    "y = data_test.get_label()\n",
    " \n",
    "accuracy = sum(y == (y_predicted > 0.5))\n",
    "accuracy_rate = float(accuracy) / len(y_predicted)\n",
    "print ('样本总数：{0}'.format(len(y_predicted)))\n",
    "print ('正确数目：{0}'.format(accuracy) )\n",
    "print ('正确率：{0:.3f}'.format((accuracy_rate)))"
   ]
  },
  {
   "cell_type": "markdown",
   "metadata": {},
   "source": [
    "## 2.2XGBoost的sklearn接口版本"
   ]
  },
  {
   "cell_type": "code",
   "execution_count": 13,
   "metadata": {},
   "outputs": [
    {
     "name": "stdout",
     "output_type": "stream",
     "text": [
      "test_score: 0.7723880597014925\n"
     ]
    }
   ],
   "source": [
    "X_train,X_test,y_train,y_test = train_test_split(df_train,target,test_size = 0.3,random_state = 1)\n",
    " \n",
    "model = xgb.XGBClassifier(max_depth=3, n_estimators=200, learn_rate=0.01)\n",
    "model.fit(X_train, y_train)  \n",
    "test_score = model.score(X_test, y_test)\n",
    "print('test_score: {0}'.format(test_score))"
   ]
  },
  {
   "cell_type": "markdown",
   "metadata": {},
   "source": [
    "利用xgboost做一次预测。"
   ]
  },
  {
   "cell_type": "code",
   "execution_count": 21,
   "metadata": {
    "scrolled": true
   },
   "outputs": [
    {
     "data": {
      "text/plain": [
       "array([[48.        ,  0.        ,  0.        , 25.9292    ,  0.        ,\n",
       "         0.        ,  1.        ,  1.        ,  0.        ,  1.        ,\n",
       "         0.        ,  0.        ],\n",
       "       [29.69911765,  0.        ,  0.        ,  7.8958    ,  0.        ,\n",
       "         0.        ,  1.        ,  0.        ,  1.        ,  0.        ,\n",
       "         0.        ,  1.        ]])"
      ]
     },
     "execution_count": 21,
     "metadata": {},
     "output_type": "execute_result"
    }
   ],
   "source": [
    "try_pred = X_test[[0,1],:]\n",
    "try_pred"
   ]
  },
  {
   "cell_type": "code",
   "execution_count": 22,
   "metadata": {},
   "outputs": [
    {
     "data": {
      "text/plain": [
       "array([1, 0], dtype=int64)"
      ]
     },
     "execution_count": 22,
     "metadata": {},
     "output_type": "execute_result"
    }
   ],
   "source": [
    "try_pred_y = y_test[0:2]\n",
    "try_pred_y"
   ]
  },
  {
   "cell_type": "code",
   "execution_count": 23,
   "metadata": {},
   "outputs": [
    {
     "data": {
      "text/plain": [
       "array([1, 0], dtype=int64)"
      ]
     },
     "execution_count": 23,
     "metadata": {},
     "output_type": "execute_result"
    }
   ],
   "source": [
    "pred = model.predict(try_pred)\n",
    "pred"
   ]
  },
  {
   "cell_type": "markdown",
   "metadata": {},
   "source": [
    "# 3.使用其他模型于XGBoost进行对比"
   ]
  },
  {
   "cell_type": "code",
   "execution_count": 17,
   "metadata": {
    "scrolled": true
   },
   "outputs": [
    {
     "name": "stdout",
     "output_type": "stream",
     "text": [
      "LogisticRegression:\n",
      "train score: 0.81380 \t test score: 0.81380\n",
      "train score: 0.81862 \t test score: 0.81862\n",
      "train score: 0.82022 \t test score: 0.82022\n",
      "随机森林:\n",
      "train score: 0.98876 \t test score: 0.98876\n",
      "train score: 0.99037 \t test score: 0.99037\n",
      "train score: 0.99037 \t test score: 0.99037\n",
      "XGBoost:\n",
      "train score: 0.95185 \t test score: 0.95185\n",
      "train score: 0.96629 \t test score: 0.96629\n",
      "train score: 0.95345 \t test score: 0.95345\n"
     ]
    }
   ],
   "source": [
    "# 应用模型进行预测\n",
    "model_lr = LogisticRegression()\n",
    "model_rf = RandomForestClassifier(n_estimators=200)\n",
    "model_xgb = xgb.XGBClassifier(max_depth=5, n_estimators=200, learn_rate=0.01)\n",
    "models = [model_lr, model_rf, model_xgb]\n",
    "model_name = ['LogisticRegression', '随机森林', 'XGBoost']\n",
    " \n",
    "cv =cross_validation.ShuffleSplit(len(df_train), n_iter=3, test_size=0.3, random_state=1)\n",
    "for i in range(3):\n",
    "    print(model_name[i] + \":\")\n",
    "    model = models[i]\n",
    "    for train, test in cv:    \n",
    "        model.fit(df_train[train], target[train])\n",
    "        train_score = model.score(df_train[train], target[train])\n",
    "        test_score = model.score(df_train[test], target[test])\n",
    "        print('train score: {0:.5f} \\t test score: {0:.5f}'.format(train_score, test_score))"
   ]
  }
 ],
 "metadata": {
  "kernelspec": {
   "display_name": "Python 3",
   "language": "python",
   "name": "python3"
  },
  "language_info": {
   "codemirror_mode": {
    "name": "ipython",
    "version": 3
   },
   "file_extension": ".py",
   "mimetype": "text/x-python",
   "name": "python",
   "nbconvert_exporter": "python",
   "pygments_lexer": "ipython3",
   "version": "3.5.5"
  }
 },
 "nbformat": 4,
 "nbformat_minor": 2
}
