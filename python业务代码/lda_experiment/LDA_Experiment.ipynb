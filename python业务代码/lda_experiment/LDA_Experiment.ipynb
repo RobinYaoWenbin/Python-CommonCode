{
 "cells": [
  {
   "cell_type": "markdown",
   "metadata": {},
   "source": [
    "# 1.package lda\n",
    "关于使用lda这个包训练lda主题模型，http://chrisstrelioff.ws/sandbox/2014/11/13/getting_started_with_latent_dirichlet_allocation_in_python.html\n",
    "这个链接中的文章写的非常清楚了，下面的代码及说明基本是来自于这个链接中的说明和官方文档。\n",
    "\n",
    "也部分参考了这个链接\n",
    "https://blog.csdn.net/Eastmount/article/details/50824215"
   ]
  },
  {
   "cell_type": "code",
   "execution_count": 1,
   "metadata": {},
   "outputs": [],
   "source": [
    "import numpy as np\n",
    "import lda"
   ]
  },
  {
   "cell_type": "markdown",
   "metadata": {},
   "source": [
    "## 1.1 载入数据\n",
    "X是训练集，395个documents，4258个words，组成了vocabulary。其中每个元素代表的都是词频。"
   ]
  },
  {
   "cell_type": "code",
   "execution_count": 2,
   "metadata": {
    "scrolled": true
   },
   "outputs": [
    {
     "data": {
      "text/plain": [
       "(395, 4258)"
      ]
     },
     "execution_count": 2,
     "metadata": {},
     "output_type": "execute_result"
    }
   ],
   "source": [
    "X = lda.datasets.load_reuters()\n",
    "vocab = lda.datasets.load_reuters_vocab()\n",
    "titles = lda.datasets.load_reuters_titles()\n",
    "X.shape"
   ]
  },
  {
   "cell_type": "code",
   "execution_count": 19,
   "metadata": {
    "scrolled": true
   },
   "outputs": [
    {
     "data": {
      "text/plain": [
       "4258"
      ]
     },
     "execution_count": 19,
     "metadata": {},
     "output_type": "execute_result"
    }
   ],
   "source": [
    "len(vocab)"
   ]
  },
  {
   "cell_type": "code",
   "execution_count": 20,
   "metadata": {},
   "outputs": [
    {
     "data": {
      "text/plain": [
       "395"
      ]
     },
     "execution_count": 20,
     "metadata": {},
     "output_type": "execute_result"
    }
   ],
   "source": [
    "len(titles)"
   ]
  },
  {
   "cell_type": "code",
   "execution_count": 9,
   "metadata": {},
   "outputs": [
    {
     "data": {
      "text/plain": [
       "array([[1, 0, 1, ..., 0, 0, 0],\n",
       "       [7, 0, 2, ..., 0, 0, 0],\n",
       "       [0, 0, 0, ..., 0, 0, 0],\n",
       "       ...,\n",
       "       [1, 0, 1, ..., 0, 0, 0],\n",
       "       [1, 0, 1, ..., 0, 0, 0],\n",
       "       [1, 0, 1, ..., 0, 0, 0]], dtype=int32)"
      ]
     },
     "execution_count": 9,
     "metadata": {},
     "output_type": "execute_result"
    }
   ],
   "source": [
    "X"
   ]
  },
  {
   "cell_type": "code",
   "execution_count": 8,
   "metadata": {
    "scrolled": true
   },
   "outputs": [
    {
     "data": {
      "text/plain": [
       "('church',\n",
       " 'pope',\n",
       " 'years',\n",
       " 'people',\n",
       " 'mother',\n",
       " 'last',\n",
       " 'told',\n",
       " 'first',\n",
       " 'world',\n",
       " 'year')"
      ]
     },
     "execution_count": 8,
     "metadata": {},
     "output_type": "execute_result"
    }
   ],
   "source": [
    "vocab[0:10]"
   ]
  },
  {
   "cell_type": "code",
   "execution_count": 10,
   "metadata": {},
   "outputs": [
    {
     "data": {
      "text/plain": [
       "('0 UK: Prince Charles spearheads British royal revolution. LONDON 1996-08-20',\n",
       " '1 GERMANY: Historic Dresden church rising from WW2 ashes. DRESDEN, Germany 1996-08-21',\n",
       " \"2 INDIA: Mother Teresa's condition said still unstable. CALCUTTA 1996-08-23\",\n",
       " '3 UK: Palace warns British weekly over Charles pictures. LONDON 1996-08-25',\n",
       " '4 INDIA: Mother Teresa, slightly stronger, blesses nuns. CALCUTTA 1996-08-25',\n",
       " \"5 INDIA: Mother Teresa's condition unchanged, thousands pray. CALCUTTA 1996-08-25\",\n",
       " '6 INDIA: Mother Teresa shows signs of strength, blesses nuns. CALCUTTA 1996-08-26',\n",
       " \"7 INDIA: Mother Teresa's condition improves, many pray. CALCUTTA, India 1996-08-25\",\n",
       " '8 INDIA: Mother Teresa improves, nuns pray for \"miracle\". CALCUTTA 1996-08-26',\n",
       " '9 UK: Charles under fire over prospect of Queen Camilla. LONDON 1996-08-26',\n",
       " '10 UK: Britain tells Charles to forget Camilla. LONDON 1996-08-27',\n",
       " \"11 COTE D'IVOIRE: FEATURE - Quiet homecoming for reprieved Ivory Coast maid. ABIDJAN 1996-08-28\",\n",
       " '12 INDIA: Mother Teresa (\"I want to go home\") sits and prays. CALCUTTA 1996-08-28',\n",
       " '13 INDIA: Mother Teresa nears end of crisis, nuns rejoice. CALCUTTA 1996-08-28',\n",
       " '14 UK: Prosaic end for marriage of Charles and Diana. LONDON 1996-08-28',\n",
       " '15 UK: No respite for British royals despite divorce. LONDON 1996-08-28',\n",
       " \"16 UK: Camilla, love of Charles' life, an unlikely queen. LONDON 1996-08-28\",\n",
       " '17 UK: Diana sets out on new life as single woman. LONDON 1996-08-28',\n",
       " '18 USA: O.J. Simpson attacks media, hints at lawsuits. WASHINGTON 1996-08-28',\n",
       " '19 USA: U.S. Cardinal Bernardin has one year or less to live. CHICAGO 1996-08-30',\n",
       " '20 USA: U.S. Cardinal Bernardin says has terminal cancer. CHICAGO 1996-08-30',\n",
       " '21 ROMANIA: German architect wins Bucharest rebuilding prize. BUCHAREST 1996-09-02',\n",
       " '22 ARGENTINA: Argentina\\'s \"Blond Angel\" finally quits Navy. BUENOS AIRES, Argentina 1996-09-02',\n",
       " '23 UK: Disney lights up Pocahontas resting place. GRAVESEND, England 1996-09-06',\n",
       " '24 HUNGARY: POPE LEAVES HUNGARY AFTER DEMANDING TWO-DAY VISIT. BUDAPEST 1996-09-07',\n",
       " '25 HUNGARY: Pope says mass in Hungary, health in spotlight. GYOR, Hungary 1996-09-07',\n",
       " \"26 UK: Prince Charles' love will not wed him, paper says. LONDON 1996-09-09\",\n",
       " '27 UK: Ex-archbishop calls Princess Diana actress-schemer. LONDON 1996-09-09',\n",
       " '28 USA: Politics discussed backstage at Emmys, no airplay. PASADENA, Calif 1996-09-08',\n",
       " '29 UK: Diana angered by ex-archbishop\\'s \"schemer\" jibe. LONDON 1996-09-11',\n",
       " '30 UK: Queen Elizabeth to hold \"royal summit\" - report. LONDON 1996-09-10',\n",
       " \"31 BRAZIL: Nobel Prize winner sides with Brazil's landless. BRASILIA 1996-09-10\",\n",
       " \"32 VATICAN: FEATURE - Papal health in spotlight amid talk of Parkinson's. VATICAN CITY 1996-09-13\",\n",
       " '33 UK: Cool it with Camilla, Major tells Charles - paper. LONDON 1996-09-14',\n",
       " '34 ROMANIA: Romania \"royalty\" wedding draws business barons. BUCHAREST 1996-09-15',\n",
       " '35 UK: British royal family holds meeting on future. LONDON 1996-09-15',\n",
       " '36 UK: Scandal-battered British royals debate future role. LONDON 1996-09-16',\n",
       " \"37 SOUTH AFRICA: It's wonderful I've found Nelson, says new love. JOHANNESBURG 1996-09-17\",\n",
       " '38 CHILE: Chilean economist Felipe Herrera dies at 74. SANTIAGO 1996-09-18',\n",
       " '39 GREECE: Princess Diana joins in funeral on Greek island. LIMNI, Greece 1996-09-18',\n",
       " '40 USA: U.S. House of Representatives honors Mother Teresa. WASHINGTON 1996-09-17',\n",
       " \"41 FRANCE: Jewish-born cardinal is Pope's key man in France. PARIS 1996-09-18\",\n",
       " \"42 VATICAN: Pope's health will figure large on trip to France. VATICAN CITY 1996-09-18\",\n",
       " '43 PHILIPPINES: FEATURE - Ex-actor eyes Philippine presidency. [CORRECTED 03:43 GMT] MANILA 1996-09-18',\n",
       " '44 UK: Runaway bishop had child, Catholic church admits. LONDON 1996-09-19',\n",
       " '45 FRANCE: Pope skirts religious controversy in France. TOURS, France 1996-09-19',\n",
       " \"46 FRANCE: Pope visits western France religious stronghold. SAINTE-ANNE D'AURAY, France 1996-09-20\",\n",
       " '47 UK: \"I still love him\" says runaway bishop\\'s mistress. LONDON 1996-09-21',\n",
       " '48 UK: Church appeals to runaway Scottish bishop. LONDON 1996-09-21',\n",
       " \"49 SWITZERLAND: Romanian ex-king's daughter marries. LAUSANNE 1996-09-21\",\n",
       " \"50 SWITZERLAND: ROMANIAN EX-KING'S DAUGHTER MARRIES. LAUSANNE 1996-09-21\",\n",
       " '51 UK: Errant Catholic bishop wants to marry divorcee. LONDON 1996-09-22',\n",
       " '52 FRANCE: Pope speaks of death with \"a smile\"-Cardinal. REIMS, France 1996-09-22',\n",
       " '53 USA: Actress Dorothy Lamour dead at 81. LOS ANGELES 1996-09-23',\n",
       " '54 USA: South Georgia resort kept Kennedy wedding secret. CUMBERLAND ISLAND, Ga 1996-09-23',\n",
       " '55 FRANCE: FEATURE - Bardot tells all - for the love of animals. PARIS 1996-09-24',\n",
       " '56 FRANCE: Bardot tells all - for the love of animals. [CORRECTED 09:05 GMT] PARIS 1996-09-24',\n",
       " '57 AUSTRALIA: Quiet Buddhist farewell for mercy death Australian. DARWIN, Australia 1996-09-27',\n",
       " '58 AUSTRALIA: Australia mercy death man joked until the end. DARWIN, Australia 1996-09-27',\n",
       " '59 BELGIUM: Famed Belgian battlefield site makes its mark. WATERLOO, Belgium 1996-09-28',\n",
       " \"60 REPUBLIC OF IRELAND: Ireland's Cardinal Daly steps down at 79. DUBLIN 1996-10-01\",\n",
       " '61 CANADA: Former Quebec premier fought for Canadian unity. QUEBEC CITY 1996-10-02',\n",
       " '62 GERMANY: Feminist Hite seeks European parliament platform. FRANKFURT 1996-10-04',\n",
       " '63 UK: Prince Charles aide out after gaffes over Camilla. LONDON 1996-10-05',\n",
       " '64 GERMANY: Vargas Llosa urges sanctions on rights abuses. FRANKFURT 1996-10-06',\n",
       " '65 VATICAN: Tired Pope calls for prayers before operation. VATICAN CITY 1996-10-06',\n",
       " '66 ITALY: Pope ready for appendix surgery. ROME 1996-10-08',\n",
       " '67 FRANCE: FEATURE - \"Who\\'s Who\" sounds requiem for French intellectuals. PARIS 1996-10-07',\n",
       " '68 USA: Clinton wishes Pope \"speedy recovery\". WASHINGTON 1996-10-08',\n",
       " '69 ITALY: \"Textbook\" papal appendix surgery excludes tumour. [CORRECTED 16:45 GMT] ROME 1996-10-08',\n",
       " '70 ITALY: Pope gets clean bill of health after appendectomy. ROME 1996-10-09',\n",
       " '71 UK: Runaway UK bishop to marry, apologises to church. KENDAL, England 1996-10-08',\n",
       " \"72 ITALY: Pope's surgery a success, doctors say no tumour. ROME 1996-10-08\",\n",
       " '73 UK: Runaway Scottish bishop to marry lover. GLASGOW, Scotland 1996-10-08',\n",
       " '74 ITALY: Pope has appendix removed, no problems. ROME 1996-10-08',\n",
       " '75 ITALY: Tranquil Pope has appendix surgery. ROME 1996-10-08',\n",
       " \"76 ITALY: Pope's operation starts - hospital sources. ROME 1996-10-08\",\n",
       " '77 SOUTH KOREA: \"King of Pop\" Michael Jackson arrives in Seoul. SEOUL 1996-10-09',\n",
       " '78 SOUTH KOREA: Jackson takes to stage in Seoul despite protests. SEOUL 1996-10-11',\n",
       " '79 INDONESIA: Nobel peace awards put East Timor in spotlight. JAKARTA 1996-10-11',\n",
       " '80 NORWAY: Nobel peace award wins praise outside indonesia. OSLO 1996-10-11',\n",
       " \"81 VATICAN: Bishop's Nobel prize sweet satisfaction for Pope. VATICAN CITY 1996-10-11\",\n",
       " '82 NORWAY: Winners of Nobel Peace Prize since 1970. OSLO 1996-10-11',\n",
       " '83 SOUTH AFRICA: FEATURE - Germans cling to little oasis in rural South Africa. HERMANNSBURG, South Africa 1996-10-13',\n",
       " '84 GERMANY: German publisher of Stern magazine dies. HAMBURG, Germany 1996-10-13',\n",
       " '85 ITALY: Joking Pope appears in public after surgery. ROME 1996-10-13',\n",
       " '86 INDONESIA: Nobel laureate invited to gathering for Suharto. JAKARTA 1996-10-14',\n",
       " '87 VATICAN: After appendectomy, Papal trembling in spotlight. VATICAN CITY 1996-10-14',\n",
       " '88 USA: Material Girl Madonna becomes a mother. LOS ANGELES 1996-10-14',\n",
       " '89 USA: Madonna as mother - the next chapter. LOS ANGELES 1996-10-14',\n",
       " '90 REPUBLIC OF IRELAND: Irish aid agency pulls out of concert over singer. DUBLIN 1996-10-15',\n",
       " '91 UK: British writer seeks reward on Nazi gold-raid book. LONDON 1996-10-18',\n",
       " \"92 UK: Mahatma Ghandi's letters go on sale in London. LONDON 1996-10-21\",\n",
       " \"93 UK: Mahatma Gandhi's letters go on sale in London. LONDON 1996-10-21\",\n",
       " '94 USA: FEATURE-Haitian voodoo - more than dolls and zombies. MIAMI 1996-10-22',\n",
       " '95 VATICAN: Pope to celebrate public mass on Sunday. VATICAN CITY 1996-10-22',\n",
       " '96 VATICAN: Pope greets pilgrims, resumes full duties Sunday. VATICAN CITY 1996-10-23',\n",
       " \"97 SPAIN: Spanish bishops attack minister's lavish wedding. MADRID 1996-10-23\",\n",
       " '98 INDIA: Former Gandhi aide has second thoughts on auction. MADRAS, India 1996-10-24',\n",
       " '99 UK: ENGLISH PASTOR DEFENDS MEMORIAL SERVICE FOR MONKEY. LONDON 1996-10-25',\n",
       " '100 VATICAN: Pope gradually resumes activity after operation. VATICAN CITY 1996-10-27',\n",
       " '101 RUSSIA: Russia presents archives to U.S. Holocaust museum. MOSCOW 1996-10-28',\n",
       " '102 USA: Municipal industry mourns James Augenthaler. NEW YORK 1996-10-28',\n",
       " '103 UK: U.S. actor berates archbishop over smacking. LONDON 1996-10-28',\n",
       " '104 USA: Author who denied Japanese-Americans interned dies. LOS ANGELES 1996-10-29',\n",
       " '105 VATICAN: Pope to publish brief memoirs. VATICAN CITY 1996-10-31',\n",
       " '106 VATICAN: Pope marks 50 years as priest, announces memoirs. VATICAN CITY 1996-11-01',\n",
       " '107 VATICAN: FEATURE - Pope marks 50th anniversary of priesthood. VATICAN CITY 1996-11-01',\n",
       " '108 ROMANIA: Romanians enjoy colourful choice of candidates. BUCHAREST 1996-11-03',\n",
       " '109 RUSSIA: Veil of secrecy thickens as Yeltsin surgery nears. MOSCOW 1996-11-04',\n",
       " '110 RUSSIA: Yeltsin in good form as heart operation nears. MOSCOW 1996-11-04',\n",
       " '111 RUSSIA: Yeltsin op looks imminent, security tightened. MOSCOW 1996-11-05',\n",
       " '112 RUSSIA: FEATURE - Provincial museum fights to stay open in Russia. KOSTROMA, Russia 1996-11-04',\n",
       " '113 ARGENTINA: FEATURE - Erstwhile angel Cavallo bedevils government. BUENOS AIRES 1996-11-04',\n",
       " '114 RUSSIA: YELTSIN COMES THROUGH SEVEN-HOUR HEART OPERATION. MOSCOW 1996-11-05',\n",
       " '115 RUSSIA: Russia on edge as Yeltsin surgery goes to plan. MOSCOW 1996-11-05',\n",
       " '116 RUSSIA: Yeltsin comes through seven-hour heart operation. MOSCOW 1996-11-05',\n",
       " \"117 ITALY: Real-life Don Camillo won't toll bells for red. ROME 1996-11-06\",\n",
       " '118 VATICAN: Pope celebrates priesthood, to resume all activity. VATICAN CITY 1996-11-10',\n",
       " \"119 USA: Chicago's Cardinal Bernardin reported near death. CHICAGO 1996-11-13\",\n",
       " '120 USA: Church, lay leaders mourn Chicago cardinal. CHICAGO 1996-11-14',\n",
       " \"121 USA: Bishops recall Bernardin's humble leadership. WASHINGTON 1996-11-14\",\n",
       " '122 USA: Cardinal led Chicago archdiocese for 14 years. CHICAGO 1996-11-14',\n",
       " \"123 USA: Chicago's Cardinal Bernardin dead at age 68. CHICAGO 1996-11-14\",\n",
       " '124 VATICAN: Pope saddened over Bernardin death. VATICAN CITY 1996-11-14',\n",
       " '125 CROATIA: Croatian doctor says Tudjman \"feeling excellent\". ZAGREB 1996-11-16',\n",
       " '126 INDONESIA: Norway issues Timorese Nobel laureate a visa. JAKARTA 1996-11-17',\n",
       " '127 INDIA: Mother Teresa becomes honorary American citizen. NEW DELHI 1996-11-16',\n",
       " '128 VATICAN: Pope warms up for Castro by meeting Gorbachev. VATICAN CITY 1996-11-18',\n",
       " '129 USA: Final services for Cardinal Bernardin of Chicago. CHICAGO 1996-11-20',\n",
       " '130 UK: India saves Gandhi papers from jaws of commerce. LONDON 1996-11-22',\n",
       " \"131 USA: Simpson's life story defies imagination. SANTA MONICA, Calif. 1996-11-22\",\n",
       " '132 INDIA: Mother Teresa \"comfortable\" after heart failure. CALCUTTA 1996-11-22',\n",
       " '133 INDIA: Mother Teresa in hospital with heart problem. CALCUTTA 1996-11-22',\n",
       " '134 FRANCE: France pays tribute to writer Malraux on Saturday. PARIS 1996-11-22',\n",
       " '135 USA: S. Carolina Klan museum claims to teach history. LAURENS, S.C. 1996-11-24',\n",
       " '136 USA: Ex-hostage Waite still keeps symbolic ticket. NEW YORK 1996-11-26',\n",
       " \"137 UK: Cluedo's final mystery solved at inventor's grave. LONDON 1996-11-27\",\n",
       " \"138 MOLDOVA: Moldova's new leader has Moscow past, western goals. CHISINAU 1996-12-02\",\n",
       " '139 VATICAN: Belgian cardinal Hamer dies. VATICAN CITY 1996-12-02',\n",
       " '140 UK: Papers show Duke of Windsor was royal loose cannon. LONDON 1996-12-03',\n",
       " '141 FRANCE: Acclaimed French historian Georges Duby dies at 77. PARIS 1996-12-03',\n",
       " '142 CENTRAL AFRICAN REPUBLIC: State burial for African emperor Bokassa cancelled. BANGUI 1996-12-04',\n",
       " '143 INDIA: Mother Teresa seeks foster homes for 4,000 children. CALCUTTA 1996-12-05',\n",
       " '144 USA: Abortion foe Salvi buried, victim attends funeral. IPSWICH, Mass 1996-12-04',\n",
       " '145 ITALY: Nobel laureate Belo says peace will be his message. ROME 1996-12-06',\n",
       " '146 VIETNAM: Hanoi declares dissident temple a national site. HANOI 1996-12-06',\n",
       " '147 GREECE: SALONIKA TO SHOW OFF BYZANTINE LEGACY IN 1997. SALONIKA, Greece 1996-12-08',\n",
       " '148 GREECE: SALONIKA TO SHOW OFF BYZANTINE LEGACY IN 1997. SALONIKA, Greece 1996-12-09',\n",
       " '149 RUSSIA: Cash-strapped Kremlin to start charging visitors. MOSCOW 1996-12-10',\n",
       " '150 VATICAN: Ageing Pope to skip Christmas Day mass this year. VATICAN CITY 1996-12-10',\n",
       " '151 NORWAY: East Timor activist shares peace prize. OSLO 1996-12-10',\n",
       " \"152 UK: FEATURE - Duke's reputation sinks 60 years after abdication. LONDON 1996-12-11\",\n",
       " \"153 SOUTH AFRICA: S.Africa's Boesak charged with theft of aid funds. CAPE TOWN 1996-12-13\",\n",
       " \"154 ITALY: Italy's Dossetti, political figure, dies. BOLOGNA, Italy 1996-12-15\",\n",
       " '155 GREECE: FEATURE - Salonika to show off Byzantine legacy in 1997. SALONIKA, Greece 1996-12-15',\n",
       " '156 NETHERLANDS: Hermitage treasures on show in Amsterdam. AMSTERDAM 1996-12-16',\n",
       " '157 RUSSIA: Russian Orthodox leader taken to hospital. MOSCOW 1996-12-18',\n",
       " '158 FRANCE: Bardot denies racism charge in Paris court. PARIS 1996-12-19',\n",
       " '159 FRANCE: Paris bids emotional farewell to Mastroianni. PARIS 1996-12-20',\n",
       " '160 ITALY: Italy says \"Ciao Marcello,\" thanks for sweet life. ROME 1996-12-20',\n",
       " '161 PERU: Peru rebel chief is angry, violent revolutionary. LIMA 1996-12-22',\n",
       " '162 CUBA: Santa Claus skips Cuba, at least officially. HAVANA 1996-12-23',\n",
       " '163 ISRAEL: Israel takes shine off Christmas in Bethlehem. BETHLEHEM, West Bank 1996-12-23',\n",
       " '164 RUSSIA: FEATURE - Moscow to celebrate 850th birthday in grand style. MOSCOW 1996-12-25',\n",
       " '165 UK: Fred West film plan angers British MPs, relatives. LONDON 1996-12-31',\n",
       " '166 INDIA: Israel president shrugs off illness. NEW DELHI 1996-12-31',\n",
       " '167 UK: Britain to review law after Fred West film plan. LONDON 1997-01-01',\n",
       " '168 UK: Britain to review law after Fred West film plan. LONDON 1997-01-01',\n",
       " '169 USA: Mother Teresa \"miracle\" bun takes to the Internet. NASHVILLE, Tenn. 1997-01-03',\n",
       " \"170 SWEDEN: Sweden's honourable Prince Bertil dies, aged 84. STOCKHOLM 1997-01-05\",\n",
       " \"171 SWEDEN: Sweden's Prince Bertil dies. STOCKHOLM 1997-01-05\",\n",
       " \"172 RUSSIA: Kremlin slams report on return of Tsar's heir. MOSCOW 1997-01-06\",\n",
       " '173 RUSSIA: Yeltsin spends Russian Christmas in bed with cold. MOSCOW 1997-01-07',\n",
       " '174 SOUTH KOREA: Under plastic awning, veteran newsman leads strikes. SEOUL 1997-01-07',\n",
       " '175 RUSSIA: FEATURE - Russian historian seeks real Stalin behind myth. MOSCOW 1997-01-09',\n",
       " '176 GERMANY: Hollywood stars blast Germany over Scientologists. BONN 1997-01-09',\n",
       " \"177 Germany: Kohl dismisses Hollywood stars' rebuke of Germany. BONN 1997-01-09\",\n",
       " '178 UK: Buckingham Palace to campaign for Charles as king. LONDON 1997-01-09',\n",
       " \"179 CANADA: FEATURE-Canada's Ben Heppner -- the Fourth Tenor?. OTTAWA 1997-01-10\",\n",
       " \"180 GERMANY: Germany rebuffs stars' accusations over Scientology. BONN 1997-01-10\",\n",
       " \"181 RUSSIA: FEATURE - Russian artists say forging evidence is kids' stuff. MOSCOW 1997-01-12\",\n",
       " '182 USA: Houston moves to rein in topless nightclubs. HOUSTON 1997-01-12',\n",
       " '183 SWEDEN: Sweden, European royalty mourn Prince Bertil. STOCKHOLM 1997-01-13',\n",
       " '184 GERMANY: German Jewish leader slams Scientology letter. FRANKFURT 1997-01-13',\n",
       " '185 PHILIPPINES: FEATURE - Festivals bring buried Philippine towns back to life. ANGELES CITY, Philippines 1997-01-13',\n",
       " '186 SWEDEN: European royalty join Sweden to mourn Prince Bertil. STOCKHOLM 1997-01-13',\n",
       " '187 AUSTRALIA: RTRS-TIMELINES-Today in History - Jan 15.',\n",
       " '188 DENMARK: Danish queen mourns, marks 25 years as monarch. COPENHAGEN 1997-01-14',\n",
       " \"189 SOUTH AFRICA: S.Africa's moral conscience, Tutu, battles cancer. JOHANNESBURG 1997-01-17\",\n",
       " '190 USA: Debate over King legacy dampens Atlanta festivities. ATLANTA 1997-01-19',\n",
       " '191 USA: Church marks legacy of Martin Luther King Jr.. ATLANTA 1997-01-20',\n",
       " '192 USA: U.S. Sen. Tsongas to be buried on Thursday. LOWELL, Mass 1997-01-19',\n",
       " '193 USA: Friends line up to pay respects to Tsongas. LOWELL, Mass. 1997-01-21',\n",
       " '194 USA: John Phillips dies, ex-First Boston muni official. NEW YORK 1997-01-22',\n",
       " \"195 FRANCE: France's Bardot cleared of racist slur. PARIS 1997-01-23\",\n",
       " \"196 LIBERIA: Liberia's Taylor remarries, offers toast for peace. GBANGA, Liberia 1997-01-28\",\n",
       " '197 TAIWAN: Taiwan president soul-searches with Hollywood hunk. TAIPEI 1997-01-29',\n",
       " '198 COLOMBIA: Gays beat Church ban, parade in Colombian carnival. BOGOTA 1997-02-02',\n",
       " '199 FRANCE: U.S. ambassador to France has brain haemorrhage. PARIS 1997-02-04',\n",
       " '200 GERMANY: Berlin festival quells Scientology boycott fears. BERLIN 1997-02-04',\n",
       " '201 USA: U.S. envoy to France seriously ill. WASHINGTON 1997-02-03',\n",
       " '202 USA: U.S. envoy to France said to be near death. WASHINGTON 1997-02-03',\n",
       " '203 FRANCE: U.S. Paris envoy Harriman in serious condition. PARIS 1997-02-04',\n",
       " '204 FRANCE: U.S. ambassador to France has brain haemorrhage. PARIS 1997-02-04',\n",
       " '205 FRANCE: U.S. ambassador to France ill in hospital. PARIS 1997-02-04',\n",
       " '206 USA: Pamela Harriman eulogized by Clinton, Democrats. WASHINGTON 1997-02-05',\n",
       " '207 USA: Clinton, Democrats laud Pamela Harriman. WASHINGTON 1997-02-05',\n",
       " '208 FRANCE: U.S. envoy Pamela Harriman dies in Paris. PARIS 1997-02-05',\n",
       " \"209 FRANCE: Pamela Harriman's life a mix of wealth and power. PARIS 1997-02-05\",\n",
       " '210 USA: Clinton lauds Harriman as gifted public servant. WASHINGTON 1997-02-05',\n",
       " \"211 USA: O.J. Simpson's incredible reversal of fortune. SANTA MONICA, Calif. 1997-02-04\",\n",
       " '212 FRANCE: U.S. ambassador to Paris Harriman dead at 76. PARIS 1997-02-05',\n",
       " '213 FRANCE: Pamela Harriman, U.S. envoy to France, dead at 76. PARIS 1997-02-05',\n",
       " '214 FRANCE: U.S. ambassador to France condition still serious. PARIS 1997-02-05',\n",
       " '215 FRANCE: Chirac to honour late U.S. envoy Pamela Harriman. PARIS 1997-02-06',\n",
       " '216 USA: FEATURE - Marsalis conjures soul from slavery. NEW YORK 1997-02-06',\n",
       " '217 UK: Oasis singer Liam Gallagher set to marry next week. LONDON 1997-02-06',\n",
       " \"218 USA: Harriman's body returned to Washington. WASHINGTON 1997-02-08\",\n",
       " '219 SWITZERLAND: FEATURE - Troubleshooting Swiss diplomat keeps low profile. BERNE 1997-02-12',\n",
       " '220 USA: Clinton recalls Harriman as elegant, indomitable. WASHINGTON 1997-02-13',\n",
       " '221 USA: Funeral for baby allegedly killed by British nanny. BROOKLINE, Mass. 1997-02-12',\n",
       " '222 VATICAN: Historian of Vatican policy towards Nazis dies. VATICAN CITY 1997-02-14',\n",
       " '223 UK: UK watchdog halts ads over epileptic seizure risk. LONDON 1997-02-14',\n",
       " \"224 PHILIPPINES: Air crash follows bishop's funeral in Philippines. JOLO, Philippines 1997-02-14\",\n",
       " '225 HONG KONG: China, Taiwan, HK stocks rocked by Deng worries. HONG KONG 1997-02-18',\n",
       " '226 UK: Albright looks back to war years on London visit. LONDON 1997-02-19',\n",
       " '227 USA: Harriman son, estranged wife inherit - report. WASHINGTON 1997-02-18',\n",
       " '228 FRANCE: French judges refuse to ban \"Larry Flynt\" posters. PARIS 1997-02-20',\n",
       " \"229 GERMANY: Bavarians outraged at exhibition on Hitler's army. MUNICH, Germany 1997-02-20\",\n",
       " '230 SWITZERLAND: Swiss bishops blast Larry Flynt film poster. ZURICH 1997-02-21',\n",
       " '231 ROMANIA: Romania king, citizenship restored, to visit home. BUCHAREST 1996-02-24',\n",
       " '232 CHINA: China Catholics pray for Deng as church silent. BEIJING 1997-02-23',\n",
       " '233 ROMANIA: Romania flashy \"Gypsy King\" dies of heart attack. BUCHAREST 1997-02-24',\n",
       " '234 USA: Rev. Benjamin Chavis joins Farrakhan group. CHICAGO 1997-02-24',\n",
       " '235 INDIA: Mother Teresa succession vote soon, order says. CALCUTTA, India 1997-02-24',\n",
       " '236 INDIA: Mother Teresa succession vote imminent, order says. CALCUTTA, India 1997-02-24',\n",
       " '237 GERMANY: \"English Patient\" favourite for Berlin Golden Bear. BERLIN 1997-02-24',\n",
       " '238 FRANCE: Berlin-winner Forman drops Larry Flynt poster. PARIS 1997-02-24',\n",
       " \"239 GERMANY: Bavarians protest against exhibit on Hitler's army. MUNICH, Germany 1997-01-24\",\n",
       " '240 GERMANY: \"English Patient\" tipped for Berlin festival prize. BERLIN 1997-02-24',\n",
       " '241 ROMANIA: Romanians honour memory of Gypsy King. SIBIU, Romania 1997-02-26',\n",
       " '242 ROMANIA: Romania to use King as envoy to boost NATO chances. BUCHAREST 1997-02-26',\n",
       " '243 ITALY: Sicily archbishop on trial for corruption, EU fraud. PALERMO, Sicily 1997-02-26',\n",
       " \"244 VATICAN: St Peter's in Rome to get facelift for 2000. VATICAN CITY 1997-02-27\",\n",
       " \"245 ROMANIA: Romania's exiled king backs reforms. BUCHAREST 1997-03-01\",\n",
       " '246 ROMANIA: Small crowds greet Romanian king, patriarch. BUCHAREST 1997-03-02',\n",
       " '247 USA: Forbes seeks to shape U.S. agenda, could run again. NEW YORK 1997-03-04',\n",
       " '248 INDIA: Mother Teresa successor vote soon - church official. CALCUTTA 1997-03-04',\n",
       " '249 POLAND: Polish bishops condemn Larry Flynt film poster. WARSAW 1997-03-05',\n",
       " '250 USA: Ex-president Reagan, wife mark 45th anniversary. LOS ANGELES 1997-03-04',\n",
       " '251 BULGARIA: Bulgarian patriarch vows to stay on despite ruling. SOFIA 1997-03-06',\n",
       " \"252 INDIA: Nuns to elect Mother Teresa's successor any day. CALCUTTA 1997-03-06\",\n",
       " '253 UK: UK Cardinal offers cash help to women not to abort. GLASGOW, Scotland 1997-03-09',\n",
       " \"254 UK: Charles and Diana reunited for son's confirmation. LONDON 1997-03-09\",\n",
       " \"255 INDIA: Mother Teresa's order grappling with succession. CALCUTTA, India 1997-03-09\",\n",
       " \"256 RUSSIA: FEATURE - Russians still squabbling over tsar's bones. YEKATERINBURG, Russia 1997-03-10\",\n",
       " \"257 USA: Pamela Harriman's estate to be auctioned off. NEW YORK 1997-03-11\",\n",
       " '258 USA: FEATURE-Grammy Winner Brecker owes it all to Philadelphia. PHILADELPHIA 1997-03-11',\n",
       " '259 INDIA: Hindu Brahmin convert to succeed Mother Teresa. CALCUTTA, India 1997-03-13',\n",
       " \"260 INDIA: Shy nun emerges from Mother Teresa's shadow. CALCUTTA, India 1997-03-13\",\n",
       " \"261 GERMANY: German home of 'lost Gospel' may hold other finds. BERLIN 1997-03-13\",\n",
       " '262 SPAIN: FEATURE - Spanish fiestas stir animal groups into fury. MANGANESES DE LA POLVOROSA, Spain 1997-03-13',\n",
       " \"263 INDIA: Mother Teresa's successor faces bumpy start. CALCUTTA, India 1997-03-16\",\n",
       " '264 SLOVAKIA: SLOVAK STUDENTS PRESS FOR MINISTER TO QUIT. BRATISLAVA 1997-03-17',\n",
       " '265 JAMAICA: Former Jamaica prime minister Manley laid to rest. KINGSTON, Jamaica 1997-03-16',\n",
       " '266 UK: FEATURE-Maverick Leigh strikes blow for independent film makers. LONDON 1997-03-17',\n",
       " '267 USA: Fans swarm New York procession for slain rapper. NEW YORK 1997-03-18',\n",
       " '268 USA: Hundreds swarm New York motorcade for slain rapper. NEW YORK 1997-03-18',\n",
       " '269 USA: FEATURE - John Tesh - music is entertainment tonight. LOS ANGELES 1997-03-18',\n",
       " \"270 UK: Thatcher's archive to go to Churchill College. LONDON 1997-03-18\",\n",
       " '271 EGYPT: Egypt moves ahead with church restoration project. CAIRO 1997-03-18',\n",
       " '272 PHILIPPINES: Ramos says N.Korean defector in Philppines for short time. MANILA 1997-03-19',\n",
       " '273 UK: Archbishop of Canterbury speaks of retiring. LONDON 1997-03-20',\n",
       " '274 ZIMBABWE: Mrs Clinton sees Zimbabwe efforts to help people. HARARE, Zimbabwe 1997-03-22',\n",
       " '275 ITALY: Dutch-Flemish show goes to roots of modern art. VENICE, Italy 1997-03-23',\n",
       " '276 USA: Clinton adjusts to slower-paced life. WASHINGTON 1997-03-25',\n",
       " '277 RUSSIA: Lenin niece opposes re-burial of Communist leader. MOSCOW 1997-03-26',\n",
       " \"278 INDONESIA: Seventeen detained after riot on Indonesia's Java. JAKARTA 1997-03-27\",\n",
       " '279 VENEZUELA: FEATURE-Andean hermit acrobat wins artist fame. SAN RAFAEL DE MUCUCHIES, Venezuela 1997-04-01',\n",
       " '280 VATICAN: FEATURE - Pope marks 19th Easter season looking tired, frail. VATICAN CITY 1997-04-01',\n",
       " \"281 PORTUGAL: FEATURE - Portugal's Cinderella city gets its reward.\",\n",
       " '282 FRANCE: Christian Dior denies rupture with actress Beart. PARIS 1997-04-03',\n",
       " '283 SPAIN: Spanish princess to wed handball player - reports. MADRID 1997-04-03',\n",
       " '284 UK: Defiant Princess Anne to return for Grand National. LIVERPOOL, England 1997-04-07',\n",
       " '285 USA: Writer Patricia Cornwell admits lesbian affair. [CORRECTED 21:20 GMT]. NEW YORK 1997-04-08',\n",
       " \"286 USA: Joe Kennedy's ex-wife to appeal annulment - report. BOSTON 1997-04-08\",\n",
       " '287 USA: Ex-wife of US Sen. Kerry fights annulment - report. BOSTON 1997-04-10',\n",
       " '288 RUSSIA: Top Russian official meets royal relative. MOSCOW 1997-04-12',\n",
       " '289 USA: Farrakhan blames Catholics Church for hate crimes. [CORRECTED 21:48 GMT] WASHINGTON 1997-04-13',\n",
       " \"290 AUSTRALIA: RTRS-Australia's Colston released from hospital. BRISBANE 1996-04-17\",\n",
       " '291 UK: FEATURE - Britain hosts major Thomas Becket exhibition. CANTERBURY, England 1997-04-20',\n",
       " '292 USA: Brooke Shields and Andre Agassi marry. MONTEREY, Calif. 1997-04-19',\n",
       " \"293 UK: China's HK General perfect choice, says tutor. LONDON 1997-04-22\",\n",
       " '294 USA: U.S. Christian Coalition leader to step down. [CORRECTED 18:19 GMT] WASHINGTON 1997-04-23',\n",
       " '295 USA: Ralph Reed steps down from U.S. Christian Coalition. WASHINGTON 1997-04-23',\n",
       " '296 EGYPT: U.S. pilot heads to Asia on Earhart tribute trip. LUXOR, Egypt 1997-04-24',\n",
       " '297 USA: Alabama judge wins Kennedy \"Courage\" award. BOSTON 1997-04-24',\n",
       " '298 PHILIPPINES: Philippines buries Marcos predecessor Macapagal. MANILA 1997-04-27',\n",
       " \"299 USA: 'Ellen' comes out, gays across U.S. celebrate. MIAMI 1997-05-01\",\n",
       " \"300 USA: 'Ellen' comes out, gays across U.S. celebrate. MIAMI 1997-04-30\",\n",
       " '301 UK: Worldwide Advertising & Media Digest - May 2.',\n",
       " '302 UK: Ex-wife of Yorkshire Ripper weds again in Britain. LONDON 1997-05-03',\n",
       " '303 NEW ZEALAND: Former NZ Social Credit leader Bruce Beetham dies.',\n",
       " '304 ITALY: Italy unveils plan to protect art treasures. ROME 1997-05-03',\n",
       " '305 UK: Eurosceptic Redwood bids to lead UK Conservatives. LONDON 1997-05-06',\n",
       " \"306 GERMANY: Germany's Herzog urges Europeans to back unity. AACHEN, Germany 1997-05-08\",\n",
       " '307 USA: American civil rights leader to be buried in Harlem. NEW YORK 1997-05-08',\n",
       " '308 USA: Kempton honored by New York writers, mayor. NEW YORK 1997-05-08',\n",
       " '309 VATICAN: Glamorous ex-model swaps catwalk for convent. VATICAN CITY 1997-05-09',\n",
       " '310 RUSSIA: Russian parliament votes no changes to Red Square. MOSCOW 1997-05-14',\n",
       " '311 AUSTRIA: FEATURE - \"Sound of Music\" makes Austrian cash tills ring. SALZBURG, Austria 1997-05-16',\n",
       " '312 AUSTRALIA: TIMELINES-Today in History - May 19.',\n",
       " '313 ITALY: Pope, on birthday, says wants to live to 100. ROME 1997-05-18',\n",
       " \"314 USA: Pamela Harriman's estate goes on sale. [CORRECTED 22:43 GMT] NEW YORK 1997-05-19\",\n",
       " '315 USA: Stallone married in London, publicist confirms. LOS ANGELES 1997-05-19',\n",
       " '316 UK: Germans ran systematic wartime plunder campaign. LONDON 1997-05-19',\n",
       " '317 USA: Harriman auction continues to bring high prices. NEW YORK 1997-05-20',\n",
       " '318 MEXICO: Mexico bids awkward farewell to controversial cleric. MEXICO CITY 1997-05-21',\n",
       " '319 USA: Notebook contains early Lennon-McCartney tunes. NEW YORK 1997-05-21',\n",
       " '320 USA: Harriman auction continues to bring high prices. NEW YORK 1997-05-20',\n",
       " '321 ITALY: Healthy looking Mother Teresa initiates new nuns. ROME 1997-05-23',\n",
       " '322 USA: Mother Teresa in New York to initiate new nuns. NEW YORK 1997-05-26',\n",
       " '323 USA: Leona Helmsley makes $1 million donation. NEW YORK 1997-05-28',\n",
       " '324 USA: Alabama judge accepts Kennedy \"Courage\" award. BOSTON 1997-05-29',\n",
       " '325 RUSSIA: Would-be Russian tsar to return for family ceremony. MOSCOW 1997-05-30',\n",
       " '326 POLAND: Pope in Poland tries to allay health concerns. WROCLAW, Poland 1996-06-02',\n",
       " '327 UK: Britain plans glittering royal golden wedding. LONDON 1997-06-04',\n",
       " '328 FRANCE: Vaillant gets loyalty reward in French cabinet post. PARIS 1997-06-04',\n",
       " '329 POLAND: POPE TAKES HELICOPTER TRIP ON REST DAY. ZAKOPANE, Poland 1997-06-05',\n",
       " '330 POLAND: Pope takes helicopter trip over beloved mountains. ZAKOPANE, Poland 1997-06-05',\n",
       " '331 POLAND: Pope rests at halfway mark as Poles mull message. ZAKOPANE, Poland 1997-06-05',\n",
       " '332 POLAND: Pope has moving reunion with with old schoolmates. ZAKOPANE, Poland 1997-06-06',\n",
       " '333 UK: Oasis songwriter Noel Gallagher weds in Las Vegas. LONDON 1997-06-07',\n",
       " '334 POLAND: Pope gives thanks for surviving assassination bid. ZAKOPANE, Poland 1997-06-07',\n",
       " '335 POLAND: Pope emotionally recalls assassination attempt. ZAKOPANE, Poland 1997-06-07',\n",
       " \"336 POLAND: Pope to spend few moments at parents' grave. KRAKOW, Poland 1996-06-09\",\n",
       " \"337 POLAND: Pope spends moments of silence at parents' grave. KRAKOW, Poland 1997-06-09\",\n",
       " '338 POLAND: Poles flock to big mass on last day of Papal visit. KROSNO, Poland 1997-06-10',\n",
       " \"339 ITALY: Mussolini descendants gather for son's funeral. ROME 1997-06-14\",\n",
       " '340 ISRAEL: Sinead quits Jerusalem concert after death threats. JERUSALEM 1997-06-16',\n",
       " '341 USA: U.S. church boycotts \"Gay friendly\" Disney. DALLAS 1997-06-18',\n",
       " \"342 RUSSIA: Russia's Patriarch urges caution on Lenin removal. MOSCOW 1997-06-19\",\n",
       " '343 GERMANY: Fragments of rare Gutenberg bible found in Germany. BONN 1997-06-20',\n",
       " \"344 UK: UK ex-minister quits as Queen's adviser - reports. LONDON 1997-06-25\",\n",
       " '345 GERMANY: Boris Becker threatens Scientology over Internet. BONN 1997-06-27',\n",
       " \"346 CHINA: China's top Catholic church official dies at 80. BEIJING 1997-06-28\",\n",
       " '347 UK: Westminster Abbey to charge entry fee - paper. LONDON 1997-06-29',\n",
       " '348 UK: Freemasons launch magazine to improve image. LONDON 1997-07-01',\n",
       " '349 UK: FEATURE-Orange and Green, the colours of N.Ireland conflict. BELFAST 1997-07-02',\n",
       " '350 COLOMBIA: Colombia recovers church art worth $1.5 million. BOGOTA 1997-07-03',\n",
       " \"351 UK: Rare show of sympathy for UK's royal mistress. LONDON 1997-07-07\",\n",
       " '352 USA: Hollywood bids farewell to actor Jimmy Stewart. BEVERLY HILLS, Calif. 1997-07-07',\n",
       " '353 ITALY: Pope begins private mountain retreat in Italy Alps. INTROD, Italy 1997-07-09',\n",
       " '354 UK: FEATURE - UK royals try to relaunch after decade \"horribilis\". LONDON 1997-07-10',\n",
       " '355 USA: Black church leader denies affair. ST. PETERSBURG, Fla. 1997-07-11',\n",
       " '356 ALBANIA: FEATURE - Albania violence threatens treasured ancient city. BUTRINT, Albania 1997-07-13',\n",
       " '357 ITALY: Jovial Pope seems invigorated by mountain break. LES COMBES, Italy 1997-07-13',\n",
       " \"358 UK: Churchill's World War One letters up for auction. LONDON 1997-07-16\",\n",
       " '359 UK: Prince Charles holds 50th bash for lover Camilla. LONDON 1997-07-16',\n",
       " '360 GERMANY: Russian minister criticises Bonn on art booty. BONN 1997-07-16',\n",
       " '361 UK: Churchill letters sell for three times estimate. LONDON 1997-07-17',\n",
       " '362 USA: Miami police probe new killing, Versace cremated. MIAMI 1997-07-17',\n",
       " '363 USA: Versace ashes to be flown to Italy Thursday. MIAMI 1997-07-17',\n",
       " '364 ISRAEL: FEATURE - Despite Vanunu, no nuclear debate in Israel. JERUSALEM 1997-07-17',\n",
       " '365 USA: Miami Beach bids farewell to Versace. MIAMI BEACH, Fla. 1997-07-18',\n",
       " '366 ITALY: Lakeside villa was hideaway for glamorous Versace. MOLTRASIO, Italy 1997-07-18',\n",
       " '367 USA: Miami Beach bids farewell to Versace. MIAMI BEACH, Fla. 1997-07-18',\n",
       " \"368 USA: Clinton will speak at Arkansas friend's funeral. HARRISON, Ark 1997-07-18\",\n",
       " '369 USA: Versace service set; new murder seen as unrelated. MIAMI BEACH 1997-07-18',\n",
       " '370 UK: Camilla steps out of shadows as royal lover. LONDON 1997-07-19',\n",
       " '371 INDIA: Mother Teresa returns, pleased with foreign trip. NEW DELHI 1997-07-20',\n",
       " '372 VIETNAM: Senior Vietnam Buddhist dies. HANOI 1997-07-21',\n",
       " '373 RUSSIA: Yeltsin revels in good health, backs new reforms. MOSCOW 1997-07-23',\n",
       " '374 PHILIPPINES: Aunt calls Versace killer \"nice, quiet boy\". BALIUAG, Philippines 1997-07-24',\n",
       " '375 VIETNAM: Thousands mourn death of top Vietnam Buddhist. HO CHI MINH CITY, Vietnam 1997-07-25',\n",
       " \"376 UK: UK's Blair says Charles can wed Camilla - report. LONDON 1997-07-27\",\n",
       " \"377 UK: UK's Blair dismisses Charles and Camilla reports. LONDON 1997-07-28\",\n",
       " \"378 USA: Clinton delivers eulogy at Brennan's funeral. WASHINGTON 1997-07-29\",\n",
       " '379 USA: California memorial service held for Andrew Cunanan. SAN DIEGO 1997-07-30',\n",
       " \"380 CROATIA: Croatia's Tudjman sworn in for second 5-year term. ZAGREB 1997-08-05\",\n",
       " '381 USA: Former FBI Director Clarence Kelley dies at 85. KANSAS CITY, Mo. 1997-08-05',\n",
       " '382 UK: Most Britons oppose idea of \"Queen Camilla\"-poll. LONDON 1997-08-06',\n",
       " '383 USA: Clarence Kelley, former FBI director, dies at 85. KANSAS CITY, Mo 1997-08-05',\n",
       " '384 UK: Britain\\'s \"top people\" back Charles marrying - poll. LONDON 1997-08-06',\n",
       " \"385 UK: Scotland kicks off world's biggest arts festival. EDINBURGH 1997-08-10\",\n",
       " '386 UK: Fringe chases audiences in Edinburgh festival month. EDINBURGH 1996-08-12',\n",
       " '387 USA: Even in death, Elvis lives. LOS ANGELES 1997-08-11',\n",
       " '388 USA: EVEN IN DEATH, ELVIS LIVES. LOS ANGELES 1997-08-11',\n",
       " '389 USA: EVEN IN DEATH, ELVIS LIVES. LOS ANGELES 1997-08-11',\n",
       " '390 CANADA: FEATURE - French-speaking Quebec celebrates Irish heritage. QUEBEC CITY 1997-08-14',\n",
       " '391 BULGARIA: FEATURE - Bulgarian opera stars are enduring export. SOFIA 1997-08-15',\n",
       " '392 USA: Fans end Elvis Presley fete with concert. MEMPHIS, Tenn 1997-08-16',\n",
       " '393 UK: Volcano buries studio where rock legends recorded. LONDON 1997-08-18',\n",
       " '394 USA: Joseph Vostal, ex-Kidder muni banker, dead at 88. NEW YORK 1997-08-18')"
      ]
     },
     "execution_count": 10,
     "metadata": {},
     "output_type": "execute_result"
    }
   ],
   "source": [
    "titles"
   ]
  },
  {
   "cell_type": "markdown",
   "metadata": {},
   "source": [
    "## 1.2 训练LDA模型"
   ]
  },
  {
   "cell_type": "code",
   "execution_count": 11,
   "metadata": {},
   "outputs": [],
   "source": [
    "model = lda.LDA(n_topics=20, n_iter=1500, random_state=1)"
   ]
  },
  {
   "cell_type": "code",
   "execution_count": 12,
   "metadata": {
    "scrolled": true
   },
   "outputs": [
    {
     "name": "stderr",
     "output_type": "stream",
     "text": [
      "INFO:lda:n_documents: 395\n",
      "INFO:lda:vocab_size: 4258\n",
      "INFO:lda:n_words: 84010\n",
      "INFO:lda:n_topics: 20\n",
      "INFO:lda:n_iter: 1500\n",
      "INFO:lda:<0> log likelihood: -1051748\n",
      "INFO:lda:<10> log likelihood: -719800\n",
      "INFO:lda:<20> log likelihood: -699115\n",
      "INFO:lda:<30> log likelihood: -689370\n",
      "INFO:lda:<40> log likelihood: -684918\n",
      "INFO:lda:<50> log likelihood: -681322\n",
      "INFO:lda:<60> log likelihood: -678979\n",
      "INFO:lda:<70> log likelihood: -676598\n",
      "INFO:lda:<80> log likelihood: -675383\n",
      "INFO:lda:<90> log likelihood: -673316\n",
      "INFO:lda:<100> log likelihood: -672761\n",
      "INFO:lda:<110> log likelihood: -671320\n",
      "INFO:lda:<120> log likelihood: -669744\n",
      "INFO:lda:<130> log likelihood: -669292\n",
      "INFO:lda:<140> log likelihood: -667940\n",
      "INFO:lda:<150> log likelihood: -668038\n",
      "INFO:lda:<160> log likelihood: -667429\n",
      "INFO:lda:<170> log likelihood: -666475\n",
      "INFO:lda:<180> log likelihood: -665562\n",
      "INFO:lda:<190> log likelihood: -664920\n",
      "INFO:lda:<200> log likelihood: -664979\n",
      "INFO:lda:<210> log likelihood: -664722\n",
      "INFO:lda:<220> log likelihood: -664459\n",
      "INFO:lda:<230> log likelihood: -664360\n",
      "INFO:lda:<240> log likelihood: -663600\n",
      "INFO:lda:<250> log likelihood: -664164\n",
      "INFO:lda:<260> log likelihood: -663826\n",
      "INFO:lda:<270> log likelihood: -663458\n",
      "INFO:lda:<280> log likelihood: -663393\n",
      "INFO:lda:<290> log likelihood: -662904\n",
      "INFO:lda:<300> log likelihood: -662294\n",
      "INFO:lda:<310> log likelihood: -662031\n",
      "INFO:lda:<320> log likelihood: -662430\n",
      "INFO:lda:<330> log likelihood: -661601\n",
      "INFO:lda:<340> log likelihood: -662108\n",
      "INFO:lda:<350> log likelihood: -662152\n",
      "INFO:lda:<360> log likelihood: -661899\n",
      "INFO:lda:<370> log likelihood: -661012\n",
      "INFO:lda:<380> log likelihood: -661278\n",
      "INFO:lda:<390> log likelihood: -661085\n",
      "INFO:lda:<400> log likelihood: -660418\n",
      "INFO:lda:<410> log likelihood: -660510\n",
      "INFO:lda:<420> log likelihood: -660343\n",
      "INFO:lda:<430> log likelihood: -659789\n",
      "INFO:lda:<440> log likelihood: -659336\n",
      "INFO:lda:<450> log likelihood: -659039\n",
      "INFO:lda:<460> log likelihood: -659329\n",
      "INFO:lda:<470> log likelihood: -658707\n",
      "INFO:lda:<480> log likelihood: -658879\n",
      "INFO:lda:<490> log likelihood: -658819\n",
      "INFO:lda:<500> log likelihood: -658407\n",
      "INFO:lda:<510> log likelihood: -658651\n",
      "INFO:lda:<520> log likelihood: -658111\n",
      "INFO:lda:<530> log likelihood: -658018\n",
      "INFO:lda:<540> log likelihood: -658111\n",
      "INFO:lda:<550> log likelihood: -657925\n",
      "INFO:lda:<560> log likelihood: -657860\n",
      "INFO:lda:<570> log likelihood: -657494\n",
      "INFO:lda:<580> log likelihood: -657723\n",
      "INFO:lda:<590> log likelihood: -657591\n",
      "INFO:lda:<600> log likelihood: -657557\n",
      "INFO:lda:<610> log likelihood: -657505\n",
      "INFO:lda:<620> log likelihood: -657730\n",
      "INFO:lda:<630> log likelihood: -657304\n",
      "INFO:lda:<640> log likelihood: -657208\n",
      "INFO:lda:<650> log likelihood: -657518\n",
      "INFO:lda:<660> log likelihood: -657541\n",
      "INFO:lda:<670> log likelihood: -657381\n",
      "INFO:lda:<680> log likelihood: -657575\n",
      "INFO:lda:<690> log likelihood: -656985\n",
      "INFO:lda:<700> log likelihood: -656815\n",
      "INFO:lda:<710> log likelihood: -656930\n",
      "INFO:lda:<720> log likelihood: -656538\n",
      "INFO:lda:<730> log likelihood: -656291\n",
      "INFO:lda:<740> log likelihood: -656417\n",
      "INFO:lda:<750> log likelihood: -656747\n",
      "INFO:lda:<760> log likelihood: -656600\n",
      "INFO:lda:<770> log likelihood: -656269\n",
      "INFO:lda:<780> log likelihood: -656311\n",
      "INFO:lda:<790> log likelihood: -656069\n",
      "INFO:lda:<800> log likelihood: -656228\n",
      "INFO:lda:<810> log likelihood: -656178\n",
      "INFO:lda:<820> log likelihood: -655694\n",
      "INFO:lda:<830> log likelihood: -655997\n",
      "INFO:lda:<840> log likelihood: -656224\n",
      "INFO:lda:<850> log likelihood: -656197\n",
      "INFO:lda:<860> log likelihood: -655889\n",
      "INFO:lda:<870> log likelihood: -656180\n",
      "INFO:lda:<880> log likelihood: -656997\n",
      "INFO:lda:<890> log likelihood: -655989\n",
      "INFO:lda:<900> log likelihood: -655615\n",
      "INFO:lda:<910> log likelihood: -655584\n",
      "INFO:lda:<920> log likelihood: -656602\n",
      "INFO:lda:<930> log likelihood: -656083\n",
      "INFO:lda:<940> log likelihood: -656294\n",
      "INFO:lda:<950> log likelihood: -656257\n",
      "INFO:lda:<960> log likelihood: -656243\n",
      "INFO:lda:<970> log likelihood: -656028\n",
      "INFO:lda:<980> log likelihood: -655603\n",
      "INFO:lda:<990> log likelihood: -656012\n",
      "INFO:lda:<1000> log likelihood: -655849\n",
      "INFO:lda:<1010> log likelihood: -655376\n",
      "INFO:lda:<1020> log likelihood: -655417\n",
      "INFO:lda:<1030> log likelihood: -655856\n",
      "INFO:lda:<1040> log likelihood: -655197\n",
      "INFO:lda:<1050> log likelihood: -655938\n",
      "INFO:lda:<1060> log likelihood: -655529\n",
      "INFO:lda:<1070> log likelihood: -655092\n",
      "INFO:lda:<1080> log likelihood: -655119\n",
      "INFO:lda:<1090> log likelihood: -656215\n",
      "INFO:lda:<1100> log likelihood: -655602\n",
      "INFO:lda:<1110> log likelihood: -655296\n",
      "INFO:lda:<1120> log likelihood: -655547\n",
      "INFO:lda:<1130> log likelihood: -655580\n",
      "INFO:lda:<1140> log likelihood: -655604\n",
      "INFO:lda:<1150> log likelihood: -655168\n",
      "INFO:lda:<1160> log likelihood: -655281\n",
      "INFO:lda:<1170> log likelihood: -655409\n",
      "INFO:lda:<1180> log likelihood: -655517\n",
      "INFO:lda:<1190> log likelihood: -654922\n",
      "INFO:lda:<1200> log likelihood: -655304\n",
      "INFO:lda:<1210> log likelihood: -655852\n",
      "INFO:lda:<1220> log likelihood: -655184\n",
      "INFO:lda:<1230> log likelihood: -655650\n",
      "INFO:lda:<1240> log likelihood: -655606\n",
      "INFO:lda:<1250> log likelihood: -656086\n",
      "INFO:lda:<1260> log likelihood: -655698\n",
      "INFO:lda:<1270> log likelihood: -655351\n",
      "INFO:lda:<1280> log likelihood: -655686\n",
      "INFO:lda:<1290> log likelihood: -654801\n",
      "INFO:lda:<1300> log likelihood: -654973\n",
      "INFO:lda:<1310> log likelihood: -655186\n",
      "INFO:lda:<1320> log likelihood: -655128\n",
      "INFO:lda:<1330> log likelihood: -655365\n",
      "INFO:lda:<1340> log likelihood: -655338\n",
      "INFO:lda:<1350> log likelihood: -655219\n",
      "INFO:lda:<1360> log likelihood: -655115\n",
      "INFO:lda:<1370> log likelihood: -654930\n",
      "INFO:lda:<1380> log likelihood: -655209\n",
      "INFO:lda:<1390> log likelihood: -654940\n",
      "INFO:lda:<1400> log likelihood: -655055\n",
      "INFO:lda:<1410> log likelihood: -655286\n",
      "INFO:lda:<1420> log likelihood: -655316\n",
      "INFO:lda:<1430> log likelihood: -655257\n",
      "INFO:lda:<1440> log likelihood: -654964\n",
      "INFO:lda:<1450> log likelihood: -654884\n",
      "INFO:lda:<1460> log likelihood: -655493\n",
      "INFO:lda:<1470> log likelihood: -655415\n",
      "INFO:lda:<1480> log likelihood: -655192\n",
      "INFO:lda:<1490> log likelihood: -655728\n",
      "INFO:lda:<1499> log likelihood: -655858\n"
     ]
    },
    {
     "data": {
      "text/plain": [
       "<lda.lda.LDA at 0xc608d6e438>"
      ]
     },
     "execution_count": 12,
     "metadata": {},
     "output_type": "execute_result"
    }
   ],
   "source": [
    "model.fit(X)  # model.fit_transform(X) is also available"
   ]
  },
  {
   "cell_type": "markdown",
   "metadata": {},
   "source": [
    "## 1.3 结果解读"
   ]
  },
  {
   "cell_type": "markdown",
   "metadata": {},
   "source": [
    "topic_word的每一行是一个topic，因此共有20行，每一列是一个word，因此共有4258列。第m行,n列的元素的含义是这个word属于这个topic的概率是多少，因此每一列的和都是1，每个word属于各个topic的概率之和是1."
   ]
  },
  {
   "cell_type": "code",
   "execution_count": 17,
   "metadata": {
    "scrolled": false
   },
   "outputs": [
    {
     "data": {
      "text/plain": [
       "array([[3.62505347e-06, 3.62505347e-06, 3.62505347e-06, ...,\n",
       "        3.62505347e-06, 3.62505347e-06, 3.62505347e-06],\n",
       "       [1.87498968e-02, 1.17916463e-06, 1.17916463e-06, ...,\n",
       "        1.17916463e-06, 1.17916463e-06, 1.17916463e-06],\n",
       "       [1.52206232e-03, 5.05668544e-06, 4.05040504e-03, ...,\n",
       "        5.05668544e-06, 5.05668544e-06, 5.05668544e-06],\n",
       "       ...,\n",
       "       [4.17266923e-02, 3.93610908e-06, 9.05698699e-03, ...,\n",
       "        3.93610908e-06, 3.93610908e-06, 3.93610908e-06],\n",
       "       [2.37609835e-06, 2.37609835e-06, 2.37609835e-06, ...,\n",
       "        2.37609835e-06, 2.37609835e-06, 2.37609835e-06],\n",
       "       [3.46310752e-06, 3.46310752e-06, 3.46310752e-06, ...,\n",
       "        3.46310752e-06, 3.46310752e-06, 3.46310752e-06]])"
      ]
     },
     "execution_count": 17,
     "metadata": {},
     "output_type": "execute_result"
    }
   ],
   "source": [
    "topic_word = model.topic_word_  # model.components_ also works\n",
    "topic_word"
   ]
  },
  {
   "cell_type": "code",
   "execution_count": 23,
   "metadata": {},
   "outputs": [
    {
     "data": {
      "text/plain": [
       "(20, 4258)"
      ]
     },
     "execution_count": 23,
     "metadata": {},
     "output_type": "execute_result"
    }
   ],
   "source": [
    "topic_word.shape"
   ]
  },
  {
   "cell_type": "markdown",
   "metadata": {},
   "source": [
    "## 1.4 20个topic中概率前7的word展示\n",
    "下面这部分代码是计算每个主题中的前7个单词"
   ]
  },
  {
   "cell_type": "code",
   "execution_count": 18,
   "metadata": {
    "scrolled": true
   },
   "outputs": [
    {
     "name": "stdout",
     "output_type": "stream",
     "text": [
      "Topic 0: british churchill sale million major letters west\n",
      "Topic 1: church government political country state people party\n",
      "Topic 2: elvis king fans presley life concert young\n",
      "Topic 3: yeltsin russian russia president kremlin moscow michael\n",
      "Topic 4: pope vatican paul john surgery hospital pontiff\n",
      "Topic 5: family funeral police miami versace cunanan city\n",
      "Topic 6: simpson former years court president wife south\n",
      "Topic 7: order mother successor election nuns church nirmala\n",
      "Topic 8: charles prince diana royal king queen parker\n",
      "Topic 9: film french france against bardot paris poster\n",
      "Topic 10: germany german war nazi letter christian book\n",
      "Topic 11: east peace prize award timor quebec belo\n",
      "Topic 12: n't life show told very love television\n",
      "Topic 13: years year time last church world people\n",
      "Topic 14: mother teresa heart calcutta charity nun hospital\n",
      "Topic 15: city salonika capital buddhist cultural vietnam byzantine\n",
      "Topic 16: music tour opera singer israel people film\n",
      "Topic 17: church catholic bernardin cardinal bishop wright death\n",
      "Topic 18: harriman clinton u.s ambassador paris president churchill\n",
      "Topic 19: city museum art exhibition century million churches\n"
     ]
    }
   ],
   "source": [
    "n_top_words = 8\n",
    "for i, topic_dist in enumerate(topic_word):\n",
    "    topic_words = np.array(vocab)[np.argsort(topic_dist)][:-n_top_words:-1]\n",
    "    print('Topic {}: {}'.format(i, ' '.join(topic_words)))"
   ]
  },
  {
   "cell_type": "markdown",
   "metadata": {},
   "source": [
    "## 1.5 输出前10个文档所属的topic"
   ]
  },
  {
   "cell_type": "code",
   "execution_count": 26,
   "metadata": {
    "scrolled": true
   },
   "outputs": [
    {
     "name": "stdout",
     "output_type": "stream",
     "text": [
      "type(doc_topic): <class 'numpy.ndarray'>\n",
      "shape: (395, 20)\n",
      "doc: 0 topic: 8\n",
      "doc: 1 topic: 13\n",
      "doc: 2 topic: 14\n",
      "doc: 3 topic: 8\n",
      "doc: 4 topic: 14\n",
      "doc: 5 topic: 14\n",
      "doc: 6 topic: 14\n",
      "doc: 7 topic: 14\n",
      "doc: 8 topic: 14\n",
      "doc: 9 topic: 8\n"
     ]
    }
   ],
   "source": [
    "doc_topic = model.doc_topic_\n",
    "print(\"type(doc_topic): {}\".format(type(doc_topic)))\n",
    "print(\"shape: {}\".format(doc_topic.shape))\n",
    "for n in range(10):\n",
    "    topic_most_pr = doc_topic[n].argmax()\n",
    "    print(\"doc: {} topic: {}\".format(n, topic_most_pr))"
   ]
  },
  {
   "cell_type": "markdown",
   "metadata": {},
   "source": [
    "也可以使用下面的代码实现这个目标，Using the title of the new stories, we can sample the most probable topic。doc_topic这个矩阵是395行，20列，每一行是一个document，每一列是一个topic。Looking at the size of the output we can see that there is a distribution over the 20 topics for each of the 395 documents. These should be normalized for each document, let’s test the first 5，发现前5行，每一行相加都是1.说明第m行，第n列的元素的含义是第m个document属于第n个topic的概率是多少。"
   ]
  },
  {
   "cell_type": "code",
   "execution_count": 29,
   "metadata": {
    "scrolled": true
   },
   "outputs": [
    {
     "name": "stdout",
     "output_type": "stream",
     "text": [
      "type(doc_topic): <class 'numpy.ndarray'>\n",
      "shape: (395, 20)\n"
     ]
    }
   ],
   "source": [
    "doc_topic = model.doc_topic_\n",
    "print(\"type(doc_topic): {}\".format(type(doc_topic)))\n",
    "print(\"shape: {}\".format(doc_topic.shape))"
   ]
  },
  {
   "cell_type": "code",
   "execution_count": 30,
   "metadata": {},
   "outputs": [
    {
     "name": "stdout",
     "output_type": "stream",
     "text": [
      "document: 0 sum: 1.0\n",
      "document: 1 sum: 1.0\n",
      "document: 2 sum: 1.0000000000000002\n",
      "document: 3 sum: 1.0000000000000002\n",
      "document: 4 sum: 0.9999999999999997\n"
     ]
    }
   ],
   "source": [
    "for n in range(5):\n",
    "    sum_pr = sum(doc_topic[n,:])\n",
    "    print(\"document: {} sum: {}\".format(n, sum_pr))"
   ]
  },
  {
   "cell_type": "code",
   "execution_count": 31,
   "metadata": {},
   "outputs": [
    {
     "name": "stdout",
     "output_type": "stream",
     "text": [
      "doc: 0 topic: 8\n",
      "0 UK: Prince Charles spearheads British royal revo...\n",
      "doc: 1 topic: 13\n",
      "1 GERMANY: Historic Dresden church rising from WW2...\n",
      "doc: 2 topic: 14\n",
      "2 INDIA: Mother Teresa's condition said still unst...\n",
      "doc: 3 topic: 8\n",
      "3 UK: Palace warns British weekly over Charles pic...\n",
      "doc: 4 topic: 14\n",
      "4 INDIA: Mother Teresa, slightly stronger, blesses...\n",
      "doc: 5 topic: 14\n",
      "5 INDIA: Mother Teresa's condition unchanged, thou...\n",
      "doc: 6 topic: 14\n",
      "6 INDIA: Mother Teresa shows signs of strength, bl...\n",
      "doc: 7 topic: 14\n",
      "7 INDIA: Mother Teresa's condition improves, many ...\n",
      "doc: 8 topic: 14\n",
      "8 INDIA: Mother Teresa improves, nuns pray for \"mi...\n",
      "doc: 9 topic: 8\n",
      "9 UK: Charles under fire over prospect of Queen Ca...\n"
     ]
    }
   ],
   "source": [
    "for n in range(10):\n",
    "    topic_most_pr = doc_topic[n].argmax()\n",
    "    print(\"doc: {} topic: {}\\n{}...\".format(n,\n",
    "                                            topic_most_pr,\n",
    "                                            titles[n][:50]))"
   ]
  },
  {
   "cell_type": "markdown",
   "metadata": {},
   "source": [
    "## 1.6 输出指定文档所属各个topic的概率"
   ]
  },
  {
   "cell_type": "code",
   "execution_count": 28,
   "metadata": {
    "scrolled": true
   },
   "outputs": [
    {
     "data": {
      "image/png": "[encoded data removed]",
      "text/plain": [
       "<Figure size 576x432 with 5 Axes>"
      ]
     },
     "metadata": {
      "needs_background": "light"
     },
     "output_type": "display_data"
    }
   ],
   "source": [
    "import matplotlib.pyplot as plt\n",
    "f, ax= plt.subplots(5, 1, figsize=(8, 6), sharex=True)\n",
    "for i, k in enumerate([1, 3, 4, 8, 9]):\n",
    "    ax[i].stem(doc_topic[k,:], linefmt='r-',\n",
    "               markerfmt='ro', basefmt='w-')\n",
    "    ax[i].set_xlim(-1, 21)\n",
    "    ax[i].set_ylim(0, 1)\n",
    "    ax[i].set_ylabel(\"Prob\")\n",
    "    ax[i].set_title(\"Document {}\".format(k))\n",
    " \n",
    "ax[4].set_xlabel(\"Topic\")\n",
    " \n",
    "plt.tight_layout()\n",
    "plt.show()"
   ]
  },
  {
   "cell_type": "markdown",
   "metadata": {},
   "source": [
    "这个包似乎不能进行预测、推断，只能对所有的数据都进行训练，然后对训练集进行主题划分。"
   ]
  },
  {
   "cell_type": "markdown",
   "metadata": {},
   "source": [
    "# 2.package gensim实现lda model\n",
    "\n",
    "下面的代码内容主要来自于\n",
    "https://www.pianshen.com/article/636768367/\n",
    "和官方文档：\n",
    "https://radimrehurek.com/gensim/models/ldamodel.html"
   ]
  },
  {
   "cell_type": "markdown",
   "metadata": {},
   "source": [
    "## 2.1 准备数据并分词\n",
    "准备原始数据，并将各个句子进行分词，得到一个二维矩阵。"
   ]
  },
  {
   "cell_type": "code",
   "execution_count": 1,
   "metadata": {},
   "outputs": [
    {
     "name": "stderr",
     "output_type": "stream",
     "text": [
      "Building prefix dict from the default dictionary ...\n",
      "Loading model from cache C:\\Users\\ADMINI~1\\AppData\\Local\\Temp\\jieba.cache\n",
      "Loading model cost 0.831 seconds.\n",
      "Prefix dict has been built successfully.\n"
     ]
    },
    {
     "name": "stdout",
     "output_type": "stream",
     "text": [
      "[['美国', '输给', '中国女排', '输给', '郎平'], ['美国', '无缘', '四强', '主教练'], ['中国女排', '晋级', '世锦赛', '四强', '主教练', '郎平', '执教', '艺术'], ['买', 'MPV', 'SUV', '跑', '长途'], ['跑', '长途', 'SUV', '轿车', '差距'], ['家用', '轿车', '买']]\n"
     ]
    }
   ],
   "source": [
    "from gensim import corpora, models\n",
    "import jieba.posseg as jp, jieba\n",
    "# 文本集\n",
    "texts = [\n",
    "    '美国教练坦言，没输给中国女排，是输给了郎平',\n",
    "    '美国无缘四强，听听主教练的评价',\n",
    "    '中国女排晋级世锦赛四强，全面解析主教练郎平的执教艺术',\n",
    "    '为什么越来越多的人买MPV，而放弃SUV？跑一趟长途就知道了',\n",
    "    '跑了长途才知道，SUV和轿车之间的差距',\n",
    "    '家用的轿车买什么好']\n",
    "jieba.add_word('四强', 9, 'n')\n",
    "flags = ('n', 'nr', 'ns', 'nt', 'eng', 'v', 'd')  # 词性\n",
    "stopwords = ('没', '就', '知道', '是', '才', '听听', '坦言', '全面', '越来越', '评价', '放弃', '人') \n",
    "words_ls = []\n",
    "for text in texts:\n",
    "    words = [word.word for word in jp.cut(text) if word.flag in flags and word.word not in stopwords]\n",
    "    words_ls.append(words)\n",
    "print(words_ls)"
   ]
  },
  {
   "cell_type": "markdown",
   "metadata": {},
   "source": [
    "## 2.2 将数据整理成lda模型所需要的输入的格式"
   ]
  },
  {
   "cell_type": "code",
   "execution_count": 2,
   "metadata": {},
   "outputs": [
    {
     "name": "stdout",
     "output_type": "stream",
     "text": [
      "Dictionary(19 unique tokens: ['中国女排', '美国', '输给', '郎平', '主教练']...)\n",
      "[[(0, 1), (1, 1), (2, 2), (3, 1)], [(1, 1), (4, 1), (5, 1), (6, 1)], [(0, 1), (3, 1), (4, 1), (5, 1), (7, 1), (8, 1), (9, 1), (10, 1)], [(11, 1), (12, 1), (13, 1), (14, 1), (15, 1)], [(12, 1), (14, 1), (15, 1), (16, 1), (17, 1)], [(13, 1), (17, 1), (18, 1)]]\n"
     ]
    }
   ],
   "source": [
    "#去重，存到字典里\n",
    "dictionary = corpora.Dictionary(words_ls)  # 存到字典的过程其实就是得到了一个vocabulary，并给每个word打上了标签。\n",
    "print(dictionary)\n",
    "corpus = [dictionary.doc2bow(words) for words in words_ls] # 建立语料库，也就是说建立一个稀疏向量。使用“词ID：词频”的形式形成稀疏向量。\n",
    "print(corpus)"
   ]
  },
  {
   "cell_type": "markdown",
   "metadata": {},
   "source": [
    "## 2.3训练lda模型"
   ]
  },
  {
   "cell_type": "code",
   "execution_count": 7,
   "metadata": {},
   "outputs": [
    {
     "name": "stdout",
     "output_type": "stream",
     "text": [
      "LdaModel(num_terms=19, num_topics=2, decay=0.5, chunksize=2000)\n"
     ]
    }
   ],
   "source": [
    "lda = models.ldamodel.LdaModel(corpus=corpus, id2word=dictionary, num_topics=2)\n",
    "print(lda)"
   ]
  },
  {
   "cell_type": "markdown",
   "metadata": {},
   "source": [
    "## 2.4 对训练集进行主题的判断"
   ]
  },
  {
   "cell_type": "code",
   "execution_count": 6,
   "metadata": {},
   "outputs": [
    {
     "name": "stdout",
     "output_type": "stream",
     "text": [
      "<bound method BaseTopicModel.print_topics of <gensim.models.ldamodel.LdaModel object at 0x000000178AA7A3C8>>\n"
     ]
    }
   ],
   "source": [
    "topics = lda.print_topics\n",
    "print(topics)"
   ]
  },
  {
   "cell_type": "code",
   "execution_count": 9,
   "metadata": {},
   "outputs": [
    {
     "name": "stdout",
     "output_type": "stream",
     "text": [
      "(0, '0.087*\"四强\" + 0.085*\"主教练\" + 0.070*\"郎平\" + 0.067*\"美国\" + 0.063*\"中国女排\"')\n",
      "(1, '0.091*\"买\" + 0.081*\"长途\" + 0.076*\"跑\" + 0.076*\"轿车\" + 0.071*\"输给\"')\n"
     ]
    }
   ],
   "source": [
    "for topic in lda.print_topics(num_words=5):\n",
    "    print(topic)"
   ]
  },
  {
   "cell_type": "code",
   "execution_count": 12,
   "metadata": {},
   "outputs": [
    {
     "data": {
      "text/plain": [
       "(array([[2.9038672 , 3.0961177 ],\n",
       "        [4.4168324 , 0.58315706],\n",
       "        [8.405289  , 0.5946879 ],\n",
       "        [0.5925695 , 5.407418  ],\n",
       "        [0.6734817 , 5.3265033 ],\n",
       "        [0.5569761 , 3.443016  ]], dtype=float32), None)"
      ]
     },
     "execution_count": 12,
     "metadata": {},
     "output_type": "execute_result"
    }
   ],
   "source": [
    "resu = lda.inference(corpus)\n",
    "resu"
   ]
  },
  {
   "cell_type": "markdown",
   "metadata": {},
   "source": [
    "## 2.5 对测试集做推断"
   ]
  },
  {
   "cell_type": "code",
   "execution_count": 14,
   "metadata": {},
   "outputs": [
    {
     "name": "stdout",
     "output_type": "stream",
     "text": [
      "中国女排将在郎平的率领下向世界女排三大赛的三连冠发起冲击\n",
      "\t主题0推断值2.23\n",
      "\t主题1推断值0.77\n",
      "【长途】与【主题0】的关系值：2.53%\n",
      "【长途】与【主题1】的关系值：6.22%\n"
     ]
    }
   ],
   "source": [
    "# 主题推断\n",
    "# print(lda.inference(corpus))\n",
    "text5 = '中国女排将在郎平的率领下向世界女排三大赛的三连冠发起冲击'\n",
    "bow = dictionary.doc2bow([word.word for word in jp.cut(text5) if word.flag in flags and word.word not in stopwords])\n",
    "ndarray = lda.inference([bow])[0]\n",
    "print(text5)\n",
    "for e, value in enumerate(ndarray[0]):\n",
    "    print('\\t主题%d推断值%.2f' % (e, value))\n",
    "    \n",
    "word_id = dictionary.doc2idx(['长途'])[0]\n",
    "for i in lda.get_term_topics(word_id):\n",
    "    print('【长途】与【主题%d】的关系值：%.2f%%' % (i[0], i[1]*100))"
   ]
  },
  {
   "cell_type": "markdown",
   "metadata": {},
   "source": [
    "get_document_topic这个方法可以直接输出输入文档所属各个topics的概率"
   ]
  },
  {
   "cell_type": "code",
   "execution_count": 29,
   "metadata": {
    "scrolled": false
   },
   "outputs": [
    {
     "name": "stdout",
     "output_type": "stream",
     "text": [
      "[(0, 1), (3, 1)]\n"
     ]
    },
    {
     "data": {
      "text/plain": [
       "[(0, 0.74210423), (1, 0.2578958)]"
      ]
     },
     "execution_count": 29,
     "metadata": {},
     "output_type": "execute_result"
    }
   ],
   "source": [
    "print(bow)\n",
    "lda.get_document_topics(bow)"
   ]
  }
 ],
 "metadata": {
  "kernelspec": {
   "display_name": "Python 3",
   "language": "python",
   "name": "python3"
  },
  "language_info": {
   "codemirror_mode": {
    "name": "ipython",
    "version": 3
   },
   "file_extension": ".py",
   "mimetype": "text/x-python",
   "name": "python",
   "nbconvert_exporter": "python",
   "pygments_lexer": "ipython3",
   "version": "3.7.0"
  }
 },
 "nbformat": 4,
 "nbformat_minor": 2
}
