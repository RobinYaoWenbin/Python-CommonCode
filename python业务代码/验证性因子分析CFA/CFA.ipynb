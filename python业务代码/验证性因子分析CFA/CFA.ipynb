{
 "cells": [
  {
   "cell_type": "code",
   "execution_count": 4,
   "metadata": {},
   "outputs": [],
   "source": [
    "import pandas as pd\n",
    "import factor_analyzer as fa\n",
    "import numpy as np\n",
    "from factor_analyzer import (ConfirmatoryFactorAnalyzer,ModelSpecificationParser)"
   ]
  },
  {
   "cell_type": "code",
   "execution_count": 7,
   "metadata": {
    "scrolled": true
   },
   "outputs": [
    {
     "data": {
      "text/html": [
       "<div>\n",
       "<style scoped>\n",
       "    .dataframe tbody tr th:only-of-type {\n",
       "        vertical-align: middle;\n",
       "    }\n",
       "\n",
       "    .dataframe tbody tr th {\n",
       "        vertical-align: top;\n",
       "    }\n",
       "\n",
       "    .dataframe thead th {\n",
       "        text-align: right;\n",
       "    }\n",
       "</style>\n",
       "<table border=\"1\" class=\"dataframe\">\n",
       "  <thead>\n",
       "    <tr style=\"text-align: right;\">\n",
       "      <th></th>\n",
       "      <th>V1</th>\n",
       "      <th>V2</th>\n",
       "      <th>V3</th>\n",
       "      <th>V4</th>\n",
       "      <th>V5</th>\n",
       "      <th>V6</th>\n",
       "      <th>V7</th>\n",
       "      <th>V8</th>\n",
       "    </tr>\n",
       "  </thead>\n",
       "  <tbody>\n",
       "    <tr>\n",
       "      <th>0</th>\n",
       "      <td>-1.072079</td>\n",
       "      <td>-0.043300</td>\n",
       "      <td>-0.709732</td>\n",
       "      <td>0.882942</td>\n",
       "      <td>-0.188851</td>\n",
       "      <td>-0.869359</td>\n",
       "      <td>-1.952088</td>\n",
       "      <td>-0.825175</td>\n",
       "    </tr>\n",
       "    <tr>\n",
       "      <th>1</th>\n",
       "      <td>3.604727</td>\n",
       "      <td>0.218592</td>\n",
       "      <td>-0.368387</td>\n",
       "      <td>1.588172</td>\n",
       "      <td>0.899240</td>\n",
       "      <td>1.072192</td>\n",
       "      <td>-0.094796</td>\n",
       "      <td>1.351627</td>\n",
       "    </tr>\n",
       "    <tr>\n",
       "      <th>2</th>\n",
       "      <td>-1.043321</td>\n",
       "      <td>0.015767</td>\n",
       "      <td>-0.665354</td>\n",
       "      <td>0.758331</td>\n",
       "      <td>1.822933</td>\n",
       "      <td>2.294757</td>\n",
       "      <td>2.735671</td>\n",
       "      <td>0.987119</td>\n",
       "    </tr>\n",
       "    <tr>\n",
       "      <th>3</th>\n",
       "      <td>-0.073700</td>\n",
       "      <td>-0.593059</td>\n",
       "      <td>-0.124759</td>\n",
       "      <td>0.206948</td>\n",
       "      <td>0.882141</td>\n",
       "      <td>-1.905872</td>\n",
       "      <td>-1.537082</td>\n",
       "      <td>-0.962797</td>\n",
       "    </tr>\n",
       "    <tr>\n",
       "      <th>4</th>\n",
       "      <td>-0.099293</td>\n",
       "      <td>0.477685</td>\n",
       "      <td>-1.113991</td>\n",
       "      <td>-0.285073</td>\n",
       "      <td>-0.646117</td>\n",
       "      <td>0.772950</td>\n",
       "      <td>0.847903</td>\n",
       "      <td>-0.613892</td>\n",
       "    </tr>\n",
       "  </tbody>\n",
       "</table>\n",
       "</div>"
      ],
      "text/plain": [
       "         V1        V2        V3        V4        V5        V6        V7  \\\n",
       "0 -1.072079 -0.043300 -0.709732  0.882942 -0.188851 -0.869359 -1.952088   \n",
       "1  3.604727  0.218592 -0.368387  1.588172  0.899240  1.072192 -0.094796   \n",
       "2 -1.043321  0.015767 -0.665354  0.758331  1.822933  2.294757  2.735671   \n",
       "3 -0.073700 -0.593059 -0.124759  0.206948  0.882141 -1.905872 -1.537082   \n",
       "4 -0.099293  0.477685 -1.113991 -0.285073 -0.646117  0.772950  0.847903   \n",
       "\n",
       "         V8  \n",
       "0 -0.825175  \n",
       "1  1.351627  \n",
       "2  0.987119  \n",
       "3 -0.962797  \n",
       "4 -0.613892  "
      ]
     },
     "execution_count": 7,
     "metadata": {},
     "output_type": "execute_result"
    }
   ],
   "source": [
    "file = './factor_analyzer-master/tests/data/test11.csv'\n",
    "X = pd.read_csv(file)\n",
    "X.head(5)"
   ]
  },
  {
   "cell_type": "code",
   "execution_count": 8,
   "metadata": {},
   "outputs": [
    {
     "data": {
      "text/plain": [
       "ConfirmatoryFactorAnalyzer(bounds=None, disp=False, impute='median',\n",
       "              is_cov_matrix=False, max_iter=200, n_obs=1000,\n",
       "              specification=<factor_analyzer.confirmatory_factor_analyzer.ModelSpecification object at 0x000000C8A885C518>,\n",
       "              tol=None)"
      ]
     },
     "execution_count": 8,
     "metadata": {},
     "output_type": "execute_result"
    }
   ],
   "source": [
    "model_dict = {\"F1\": [\"V1\", \"V2\", \"V3\", \"V4\"],\"F2\": [\"V5\", \"V6\", \"V7\", \"V8\"]}  # 定义验证性因子分析模型\n",
    "model_spec = ModelSpecificationParser.parse_model_specification_from_dict(X, model_dict)  # 将上述的字典类型转化为ModelSpecificaition object\n",
    "cfa = ConfirmatoryFactorAnalyzer(model_spec, disp=False)  # 定义cfa\n",
    "cfa.fit(X.values)  # 训练模型"
   ]
  },
  {
   "cell_type": "code",
   "execution_count": 9,
   "metadata": {},
   "outputs": [
    {
     "data": {
      "text/plain": [
       "array([[0.        , 0.99130908],\n",
       "       [0.        , 0.46074998],\n",
       "       [0.        , 0.35022636],\n",
       "       [0.        , 0.58331317],\n",
       "       [0.98621196, 0.        ],\n",
       "       [0.73389127, 0.        ],\n",
       "       [0.37602844, 0.        ],\n",
       "       [0.50049351, 0.        ]])"
      ]
     },
     "execution_count": 9,
     "metadata": {},
     "output_type": "execute_result"
    }
   ],
   "source": [
    "# 因子载荷，列是factor1和factor2，行是V1-V8\n",
    "cfa.loadings_"
   ]
  },
  {
   "cell_type": "code",
   "execution_count": 10,
   "metadata": {
    "scrolled": true
   },
   "outputs": [
    {
     "data": {
      "text/plain": [
       "array([[1.        , 0.17385554],\n",
       "       [0.17385554, 1.        ]])"
      ]
     },
     "execution_count": 10,
     "metadata": {},
     "output_type": "execute_result"
    }
   ],
   "source": [
    "# The factor covariance matrix.因子的协方差矩阵\n",
    "cfa.factor_varcovs_"
   ]
  },
  {
   "cell_type": "code",
   "execution_count": 14,
   "metadata": {},
   "outputs": [
    {
     "data": {
      "text/plain": [
       "array([[1.09668632],\n",
       "       [0.95474338],\n",
       "       [0.95099009],\n",
       "       [0.9478349 ],\n",
       "       [1.06382412],\n",
       "       [0.9422038 ],\n",
       "       [0.97622041],\n",
       "       [1.038387  ]])"
      ]
     },
     "execution_count": 14,
     "metadata": {},
     "output_type": "execute_result"
    }
   ],
   "source": [
    "cfa.error_vars_"
   ]
  },
  {
   "cell_type": "code",
   "execution_count": 11,
   "metadata": {},
   "outputs": [
    {
     "data": {
      "text/plain": [
       "(array([[0.        , 0.06779945],\n",
       "        [0.        , 0.04369964],\n",
       "        [0.        , 0.04153118],\n",
       "        [0.        , 0.04766643],\n",
       "        [0.06025353, 0.        ],\n",
       "        [0.04913152, 0.        ],\n",
       "        [0.04066038, 0.        ],\n",
       "        [0.04351207, 0.        ]]),\n",
       " array([0.11929833, 0.05043623, 0.04645805, 0.05803075, 0.10176925,\n",
       "        0.06607525, 0.04742316, 0.05373641]))"
      ]
     },
     "execution_count": 11,
     "metadata": {},
     "output_type": "execute_result"
    }
   ],
   "source": [
    "# Get the standard errors from the implied covariance matrix and implied means.\n",
    "# returns\n",
    "# loadings_se (numpy array) – The standard errors for the factor loadings.\n",
    "# error_vars_se (numpy array) – The standard errors for the error variances.\n",
    "\n",
    "cfa.get_standard_errors()"
   ]
  },
  {
   "cell_type": "code",
   "execution_count": 12,
   "metadata": {},
   "outputs": [
    {
     "data": {
      "text/plain": [
       "array([[-1.08707717, -0.46852109],\n",
       "       [ 1.20227702,  2.59025679],\n",
       "       [ 2.65696993, -0.47215925],\n",
       "       ...,\n",
       "       [-0.91804633, -1.59309265],\n",
       "       [ 0.88174826,  0.19431187],\n",
       "       [-0.76951043, -0.27863464]])"
      ]
     },
     "execution_count": 12,
     "metadata": {},
     "output_type": "execute_result"
    }
   ],
   "source": [
    "# Get the factor scores for new data set.\n",
    "cfa.transform(X.values)"
   ]
  }
 ],
 "metadata": {
  "kernelspec": {
   "display_name": "Python 3",
   "language": "python",
   "name": "python3"
  },
  "language_info": {
   "codemirror_mode": {
    "name": "ipython",
    "version": 3
   },
   "file_extension": ".py",
   "mimetype": "text/x-python",
   "name": "python",
   "nbconvert_exporter": "python",
   "pygments_lexer": "ipython3",
   "version": "3.5.5"
  }
 },
 "nbformat": 4,
 "nbformat_minor": 2
}
