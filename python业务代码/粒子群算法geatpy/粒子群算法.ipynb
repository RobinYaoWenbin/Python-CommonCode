{
 "cells": [
  {
   "cell_type": "code",
   "execution_count": 50,
   "metadata": {},
   "outputs": [],
   "source": [
    "import pandas as pd\n",
    "import matplotlib.pyplot as plt\n",
    "import numpy as np\n",
    "# Import PySwarms\n",
    "import pyswarms as ps\n",
    "from pyswarms.utils.functions import single_obj as fx\n",
    "from pyswarms.single.global_best import GlobalBestPSO"
   ]
  },
  {
   "cell_type": "markdown",
   "metadata": {},
   "source": [
    "# 1.pyswarms实现粒子群算法\n",
    "## 1.1.自定义函数\n",
    "创建自定义的函数，自变量x是一个二维的矩阵，维度为shape(n_particles,n_dimension),每一行是一个particle，每一列是一个维度，自定义函数的返回值是一个一维的矩阵，矩阵中的每个元素是每个particle输入到目标函数后返回的值。除此之外，自定义的function还可以有一些系数，下面我举的例子中给了一个系数a。我给的自定义的函数为:$$f(x) = a*(x_1^2 + x_2^2)$$"
   ]
  },
  {
   "cell_type": "code",
   "execution_count": 60,
   "metadata": {},
   "outputs": [],
   "source": [
    "def SelfDefinedFunc(x , a):\n",
    "    j = a * ((x ** 2.0).sum(axis=1))\n",
    "    return j"
   ]
  },
  {
   "cell_type": "code",
   "execution_count": 56,
   "metadata": {},
   "outputs": [
    {
     "data": {
      "text/plain": [
       "array([ 4., 16.])"
      ]
     },
     "execution_count": 56,
     "metadata": {},
     "output_type": "execute_result"
    }
   ],
   "source": [
    "# 输入一个二维矩阵，观察函数的输出值，进一步了解下自定义的函数。\n",
    "x=np.array([[1,1],[2,2]])\n",
    "SelfDefinedFunc(x,2)"
   ]
  },
  {
   "cell_type": "markdown",
   "metadata": {},
   "source": [
    "## 1.2.定义约束\n",
    "定义两个维度的自变量的范围分别为（1,9）和（3,10）。"
   ]
  },
  {
   "cell_type": "code",
   "execution_count": 58,
   "metadata": {},
   "outputs": [],
   "source": [
    "x_max = (9,10)\n",
    "x_min = (1,3)\n",
    "bounds = (x_min, x_max)"
   ]
  },
  {
   "cell_type": "markdown",
   "metadata": {},
   "source": [
    "## 1.3.使用粒子群算法进行优化求解"
   ]
  },
  {
   "cell_type": "code",
   "execution_count": 68,
   "metadata": {},
   "outputs": [
    {
     "name": "stderr",
     "output_type": "stream",
     "text": [
      "2020-07-21 11:51:58,850 - pyswarms.single.global_best - INFO - Optimize for 1000 iters with {'c1': 0.5, 'c2': 0.3, 'w': 0.9}\n",
      "pyswarms.single.global_best: 100%|███████████████████████████████████████████████████████████|1000/1000, best_cost=20.4\n",
      "2020-07-21 11:52:00,856 - pyswarms.single.global_best - INFO - Optimization finished | best cost: 20.411660581634884, best pos: [1.03786661 3.02136777]\n"
     ]
    },
    {
     "name": "stdout",
     "output_type": "stream",
     "text": [
      "20.411660581634884 [1.03786661 3.02136777]\n"
     ]
    }
   ],
   "source": [
    "# instatiate the optimizer\n",
    "\n",
    "options = {'c1': 0.5, 'c2': 0.3, 'w': 0.9} # 粒子群算法的参数\n",
    "optimizer = GlobalBestPSO(n_particles=20, dimensions=2, options=options, bounds=bounds)\n",
    "\n",
    "# now run the optimization, pass a=1 and b=100 as a tuple assigned to args\n",
    "\n",
    "cost, pos = optimizer.optimize(SelfDefinedFunc, iters=1000,a = 2)  # a就是自定义函数的参数\n",
    "print(cost , pos)"
   ]
  },
  {
   "cell_type": "markdown",
   "metadata": {},
   "source": [
    "## 1.4.结论\n",
    "pyswarms实现粒子群算法进行优化是很简单的，但是问题是这个包没法加入约束方程，因此解决优化问题时基本上是不大行的。"
   ]
  },
  {
   "cell_type": "markdown",
   "metadata": {},
   "source": [
    "# 2.pyswarm实现粒子群算法"
   ]
  },
  {
   "cell_type": "markdown",
   "metadata": {},
   "source": [
    "## 2.1.自定义函数\n",
    "粒子群算法将会最小化目标函数"
   ]
  },
  {
   "cell_type": "code",
   "execution_count": 72,
   "metadata": {},
   "outputs": [],
   "source": [
    "from pyswarm import pso\n",
    "\n",
    "def banana(x):\n",
    "    x1 = x[0]\n",
    "    x2 = x[1]\n",
    "    return x1**2 + x2**2"
   ]
  },
  {
   "cell_type": "code",
   "execution_count": 74,
   "metadata": {},
   "outputs": [
    {
     "data": {
      "text/plain": [
       "5"
      ]
     },
     "execution_count": 74,
     "metadata": {},
     "output_type": "execute_result"
    }
   ],
   "source": [
    "banana([1,2])"
   ]
  },
  {
   "cell_type": "markdown",
   "metadata": {},
   "source": [
    "## 2.2.定义约束"
   ]
  },
  {
   "cell_type": "code",
   "execution_count": 91,
   "metadata": {},
   "outputs": [],
   "source": [
    "def con1(x):\n",
    "    x1 = x[0]\n",
    "    x2 = x[1]\n",
    "    return x1-x2\n",
    "def con2(x):\n",
    "    x1 = x[0]\n",
    "    x2 = x[1]\n",
    "    return x1-x2-0.5\n",
    "\n",
    "lb = [-3, 1]\n",
    "ub = [2, 6]"
   ]
  },
  {
   "cell_type": "markdown",
   "metadata": {},
   "source": [
    "## 2.3.使用粒子群算法进行优化求解\n",
    "在此仅仅对约束施加一些说明，其他都很简单，一看就知道，便不再多阐述了。添加约束主要依靠下面的两个参数来做到。\n",
    "\n",
    "ieqcons : list\n",
    "\n",
    "A list of functions of length n such that ieqcons\\[j\\](x,*args) >= 0.0 in a successfully optimized problem (Default: empty list, [])\n",
    "\n",
    "f_ieqcons : function\n",
    "\n",
    "Returns a 1-D array in which each element must be greater or equal to 0.0 in a successfully optimized problem. If f_ieqcons is specified, ieqcons is ignored (Default: None)"
   ]
  },
  {
   "cell_type": "code",
   "execution_count": 92,
   "metadata": {
    "scrolled": true
   },
   "outputs": [
    {
     "name": "stdout",
     "output_type": "stream",
     "text": [
      "Stopping search: Swarm best position change less than 1e-08\n",
      "[1.50000002 1.        ] 3.250000048714665\n"
     ]
    }
   ],
   "source": [
    "xopt, fopt = pso(banana, lb, ub, f_ieqcons=None,ieqcons=[con1 , con2], args=(), kwargs={},\n",
    "    swarmsize=100, omega=0.5, phip=0.5, phig=0.5, maxiter=100, minstep=1e-8,\n",
    "    minfunc=1e-8, debug=False)\n",
    "print(xopt , fopt)"
   ]
  },
  {
   "cell_type": "markdown",
   "metadata": {},
   "source": [
    "## 2.4.结论\n",
    "使用pyswarm便可以完美实现，带约束的目标函数求解了。"
   ]
  },
  {
   "cell_type": "markdown",
   "metadata": {},
   "source": [
    "# 参考链接\n",
    "https://pythonhosted.org/pyswarm/"
   ]
  }
 ],
 "metadata": {
  "kernelspec": {
   "display_name": "Python 3",
   "language": "python",
   "name": "python3"
  },
  "language_info": {
   "codemirror_mode": {
    "name": "ipython",
    "version": 3
   },
   "file_extension": ".py",
   "mimetype": "text/x-python",
   "name": "python",
   "nbconvert_exporter": "python",
   "pygments_lexer": "ipython3",
   "version": "3.6.5"
  }
 },
 "nbformat": 4,
 "nbformat_minor": 2
}
