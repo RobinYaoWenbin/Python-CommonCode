{
 "cells": [
  {
   "cell_type": "code",
   "execution_count": 4,
   "metadata": {},
   "outputs": [
    {
     "data": {
      "text/plain": [
       "<module 'basics' from 'C:\\\\Users\\\\Administrator\\\\Desktop\\\\poi爬取\\\\basics.py'>"
      ]
     },
     "execution_count": 4,
     "metadata": {},
     "output_type": "execute_result"
    }
   ],
   "source": [
    "import json\n",
    "import urllib\n",
    "import matplotlib.pyplot as plt\n",
    "import pandas as pd\n",
    "import numpy as np\n",
    "import plot_map\n",
    "import matplotlib as mpl\n",
    "import seaborn as sns\n",
    "import sys\n",
    "import os\n",
    "import basics\n",
    "import geopandas as gpd\n",
    "import pymysql\n",
    "from shapely.geometry import Point \n",
    "from shapely.geometry import Polygon\n",
    "from shapely.geometry import LineString\n",
    "import pyproj\n",
    "from urllib.parse import quote\n",
    "import string\n",
    "import math\n",
    "from coord_convert.transform import wgs2gcj, wgs2bd, gcj2wgs, gcj2bd, bd2wgs, bd2gcj \n",
    "import importlib\n",
    "importlib.reload(basics)"
   ]
  },
  {
   "cell_type": "markdown",
   "metadata": {},
   "source": [
    "# 1.获取荆州市各类型POI"
   ]
  },
  {
   "cell_type": "code",
   "execution_count": 5,
   "metadata": {},
   "outputs": [],
   "source": [
    "# 关键字搜索，每次最多返回1000个POI信息，适合数量较少的POI类型\n",
    "def getPOIKeywords(poitype,citycode):\n",
    "    POIList = []\n",
    "    for page in range(1 , 46):\n",
    "        url = \"https://restapi.amap.com/v3/place/text?key=\"+ak+\"&keywords=&types=\"+poitype+\"&city=\"+citycode+\\\n",
    "        \"&children=l&offset=20&page=\"+str(page)+\"&extensions=all\"\n",
    "        json_obj = urllib.request.urlopen(url)\n",
    "        json_data = json.load(json_obj)\n",
    "        try:\n",
    "            pois = json_data['pois']\n",
    "        except Exception as e:\n",
    "            print(\"错误\",url)\n",
    "            print(e)\n",
    "            continue\n",
    "        if (pois != []):\n",
    "            for j in range(0,len(pois)):\n",
    "                poi_j = pois[j]\n",
    "                id = poi_j['id']\n",
    "                lon = float(poi_j['location'].split(',')[0])\n",
    "                lat = float(str(poi_j['location']).split(',')[1])\n",
    "                name = poi_j['name']\n",
    "                poi = basics.PointWithAttr(id,lon,lat,poitype,name)\n",
    "                POIList.append(poi)\n",
    "    return POIList"
   ]
  },
  {
   "cell_type": "code",
   "execution_count": 6,
   "metadata": {},
   "outputs": [],
   "source": [
    "#范围搜索，将行政区划分为num个子区域，用以无遗漏采集POI\n",
    "def getPOIPolygon(poitype,citycode,num):\n",
    "    POIList = []\n",
    "    # 获取citycode对应的行政边界\n",
    "    districtBoundryUrl = \"http://restapi.amap.com/v3/config/district?key=\"+ak+\"&keywords=\"+citycode+\"&subdistrict=0&extensions=all\"\n",
    "    json_obj=urllib.request.urlopen(districtBoundryUrl)\n",
    "    json_data=json.load(json_obj)\n",
    "    districts = json_data['districts']\n",
    "    if len(districts) == 0:\n",
    "        # 0意味着该区域无法搜索出行政区边界信息\n",
    "        print(\"该区域无法搜索出行政区边界信息\")\n",
    "        return []\n",
    "    polyline = districts[0]['polyline']\n",
    "    center = districts[0]['center']\n",
    "    pointscoords = polyline.split(';')\n",
    "    newlinelength=int(len(pointscoords) / num)  # 每个子区域的点数目\n",
    "    # 将行政区域划分为num个子区域，获得每个子区域的poi\n",
    "    boundryMarks = [] # 标记行政区域的划分点\n",
    "    for i in range(0,len(pointscoords) , newlinelength):\n",
    "        boundryMarks.append(i)\n",
    "    boundryMarks.append(len(pointscoords) - 1)\n",
    "    for i in range(0 , len(boundryMarks) - 1):\n",
    "        firstMark = boundryMarks[i]\n",
    "        lastMark = boundryMarks[i+1]\n",
    "        newboundry = [center] #新的多边形划分子区，从中心开始\n",
    "        for j in range(firstMark , lastMark+1):\n",
    "            newboundry.append(pointscoords[j])\n",
    "        newboundry.append(center)  #最后回到center，达到闭合\n",
    "        # newboundryStr是多边形的边界\n",
    "        newboundryStr = \"|\".join(newboundry)\n",
    "        for page in range(1,46):\n",
    "            url=\"http://restapi.amap.com/v3/place/polygon?key=\"+ak+\"&polygon=\"+newboundryStr+\"&keywords=&types=\"+poitype+ \\\n",
    "            \"&offset=20&page=\"+str(page)+\"&extensions=all\"\n",
    "            try:\n",
    "                json_obj=urllib.request.urlopen(url)\n",
    "            except Exception as e:\n",
    "                print(\"错误\" , url)\n",
    "                print(e)\n",
    "                continue\n",
    "            json_data=json.load(json_obj)\n",
    "            try:\n",
    "                pois=json_data['pois']\n",
    "            except Exception as e:\n",
    "                print(\"错误\" , url)\n",
    "                print(e)\n",
    "                continue\n",
    "            if (pois != []):\n",
    "                for j in range(0,len(pois)):\n",
    "                    poi_j=pois[j]\n",
    "                    id=poi_j['id']\n",
    "                    lon=float(poi_j['location'].split(',')[0])\n",
    "                    lat=float(str(poi_j['location']).split(',')[1])\n",
    "                    name=poi_j['name']\n",
    "                    poi=basics.PointWithAttr(id,lon,lat,poitype,name)\n",
    "                    POIList.append(poi)\n",
    "    return POIList"
   ]
  },
  {
   "cell_type": "code",
   "execution_count": 7,
   "metadata": {},
   "outputs": [],
   "source": [
    "# 将poi写入txt文件ok\n",
    "def writePOIs2File(POIList,outputfile):\n",
    "    f = open(outputfile,'a' ,encoding=\"utf-8\")\n",
    "    for i in range(0 , len(POIList)):\n",
    "        f.write(POIList[i].id+\";\"+POIList[i].name+\";\"+POIList[i].type+';'+str(POIList[i].lon)+';'+str(POIList[i].lat)+\"\\n\")\n",
    "    f.close()    "
   ]
  },
  {
   "cell_type": "code",
   "execution_count": 1,
   "metadata": {
    "scrolled": true
   },
   "outputs": [
    {
     "ename": "NameError",
     "evalue": "name 'os' is not defined",
     "output_type": "error",
     "traceback": [
      "\u001b[1;31m---------------------------------------------------------------------------\u001b[0m",
      "\u001b[1;31mNameError\u001b[0m                                 Traceback (most recent call last)",
      "\u001b[1;32m<ipython-input-1-dfcca49de5bb>\u001b[0m in \u001b[0;36m<module>\u001b[1;34m\u001b[0m\n\u001b[0;32m      3\u001b[0m \u001b[1;31m# 将采集的POI数据保存在output_directory文件夹里\u001b[0m\u001b[1;33m\u001b[0m\u001b[1;33m\u001b[0m\u001b[1;33m\u001b[0m\u001b[0m\n\u001b[0;32m      4\u001b[0m \u001b[0moutput_directory\u001b[0m\u001b[1;33m=\u001b[0m\u001b[1;34m\"C:\\\\Users\\\\Administrator\\\\Desktop\\\\poi爬取\\\\\"\u001b[0m\u001b[1;33m\u001b[0m\u001b[1;33m\u001b[0m\u001b[0m\n\u001b[1;32m----> 5\u001b[1;33m \u001b[1;32mif\u001b[0m \u001b[1;32mnot\u001b[0m \u001b[0mos\u001b[0m\u001b[1;33m.\u001b[0m\u001b[0mpath\u001b[0m\u001b[1;33m.\u001b[0m\u001b[0mexists\u001b[0m\u001b[1;33m(\u001b[0m\u001b[0moutput_directory\u001b[0m\u001b[1;33m+\u001b[0m\u001b[1;34m\"poi\\\\\"\u001b[0m\u001b[1;33m)\u001b[0m\u001b[1;33m:\u001b[0m\u001b[1;33m\u001b[0m\u001b[1;33m\u001b[0m\u001b[0m\n\u001b[0m\u001b[0;32m      6\u001b[0m     \u001b[0mos\u001b[0m\u001b[1;33m.\u001b[0m\u001b[0mmkdir\u001b[0m\u001b[1;33m(\u001b[0m\u001b[0moutput_directory\u001b[0m\u001b[1;33m+\u001b[0m\u001b[1;34m\"poi\\\\\"\u001b[0m\u001b[1;33m)\u001b[0m\u001b[1;33m\u001b[0m\u001b[1;33m\u001b[0m\u001b[0m\n\u001b[0;32m      7\u001b[0m \u001b[1;32mtry\u001b[0m\u001b[1;33m:\u001b[0m\u001b[1;33m\u001b[0m\u001b[1;33m\u001b[0m\u001b[0m\n",
      "\u001b[1;31mNameError\u001b[0m: name 'os' is not defined"
     ]
    }
   ],
   "source": [
    "# 密钥ak\n",
    "ak= ''\n",
    "# 将采集的POI数据保存在output_directory文件夹里\n",
    "output_directory=\"C:\\\\Users\\\\Administrator\\\\Desktop\\\\poi爬取\\\\\"\n",
    "if not os.path.exists(output_directory+\"poi\\\\\"):\n",
    "    os.mkdir(output_directory+\"poi\\\\\")\n",
    "try:\n",
    "    typefile=open(output_directory+\"poitype.txt\",'r')\n",
    "except Exception as e:\n",
    "    print('错误提示:请将poitype.txt复制到'+output_directory+\"下\")\n",
    "poitypeList=typefile.readlines()\n",
    "for poitype in poitypeList:  # 遍历各种类型，并下载每种类型的poi\n",
    "    poitype=poitype.split('\\n')[0]  # 去掉换行符\n",
    "    #行政区域编码citycode\n",
    "    citycodes={'沙市区':'421002','荆州区':'421003','公安县':'421022','监利市':'421023','江陵县':'421024','石首市':'421081',\\\n",
    "               '洪湖市':'421083','松滋市':'421087'}\n",
    "#     citycodes={'杭州市':'330100'}\n",
    "    for citycode in citycodes.values():  # 遍历行政区域编码，将各个行政区域的poi都下载下来\n",
    "        #调用关键字搜索的getPOIKeywords函数，获取POI数量较少的案例\n",
    "        try:\n",
    "            POIList = getPOIKeywords(poitype , citycode)\n",
    "        except Exception as e:\n",
    "            print(\"错误提示:\" , e)\n",
    "            POIList = range(1500)\n",
    "        # 关键字搜索返回POI数量大于900个，则调用多边形搜索\n",
    "        # getPOIPolygon函数，获取POI数量较多的类别\n",
    "        if (len(POIList)>=900):\n",
    "            POIList = []\n",
    "            POIList=getPOIPolygon(poitype,citycode , 30)\n",
    "            outputfile1=output_directory+\"poi\\\\\"+poitype+\"_\"+citycode+\"_polygon.txt\"\n",
    "            f=open(outputfile1,'w',encoding=\"utf-8\")\n",
    "            f.close()\n",
    "            print(citycode , poitype,len(POIList))\n",
    "            writePOIs2File(POIList,outputfile1)\n",
    "        else:\n",
    "            outputfile = output_directory+\"poi\\\\\"+poitype+\"_\"+citycode+\"_keywords.txt\"\n",
    "            f=open(outputfile,'w',encoding=\"utf-8\")\n",
    "            f.close()\n",
    "            print(citycode,poitype,len(POIList))\n",
    "            writePOIs2File(POIList,outputfile)\n",
    "# 合并poitype类型的文本文件\n",
    "basics.mergetxt(output_directory+\"poi\\\\\",output_directory+\"final.txt\")"
   ]
  }
 ],
 "metadata": {
  "kernelspec": {
   "display_name": "Python 3",
   "language": "python",
   "name": "python3"
  },
  "language_info": {
   "codemirror_mode": {
    "name": "ipython",
    "version": 3
   },
   "file_extension": ".py",
   "mimetype": "text/x-python",
   "name": "python",
   "nbconvert_exporter": "python",
   "pygments_lexer": "ipython3",
   "version": "3.7.9"
  }
 },
 "nbformat": 4,
 "nbformat_minor": 2
}
