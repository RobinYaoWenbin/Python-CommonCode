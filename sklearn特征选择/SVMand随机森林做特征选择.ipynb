{
 "cells": [
  {
   "cell_type": "code",
   "execution_count": 82,
   "metadata": {},
   "outputs": [],
   "source": [
    "import pandas as pd\n",
    "import numpy as np\n",
    "from sklearn import preprocessing\n",
    "from sklearn.feature_selection import RFE\n",
    "from sklearn.svm import SVC\n",
    "from sklearn.ensemble import RandomForestRegressor"
   ]
  },
  {
   "cell_type": "code",
   "execution_count": 11,
   "metadata": {
    "scrolled": true
   },
   "outputs": [
    {
     "data": {
      "text/html": [
       "<div>\n",
       "<style scoped>\n",
       "    .dataframe tbody tr th:only-of-type {\n",
       "        vertical-align: middle;\n",
       "    }\n",
       "\n",
       "    .dataframe tbody tr th {\n",
       "        vertical-align: top;\n",
       "    }\n",
       "\n",
       "    .dataframe thead th {\n",
       "        text-align: right;\n",
       "    }\n",
       "</style>\n",
       "<table border=\"1\" class=\"dataframe\">\n",
       "  <thead>\n",
       "    <tr style=\"text-align: right;\">\n",
       "      <th></th>\n",
       "      <th>预警状态</th>\n",
       "      <th>路段平均速度</th>\n",
       "      <th>行驶时间</th>\n",
       "      <th>方向角变化</th>\n",
       "      <th>高程变化</th>\n",
       "      <th>平均加速度</th>\n",
       "      <th>温度3</th>\n",
       "      <th>相对湿度3</th>\n",
       "      <th>能见度3</th>\n",
       "      <th>天气情况3</th>\n",
       "      <th>时间分段4</th>\n",
       "      <th>方向角标准差</th>\n",
       "      <th>高程标准差</th>\n",
       "    </tr>\n",
       "  </thead>\n",
       "  <tbody>\n",
       "    <tr>\n",
       "      <th>0</th>\n",
       "      <td>0</td>\n",
       "      <td>24.750000</td>\n",
       "      <td>16.0</td>\n",
       "      <td>0.568750</td>\n",
       "      <td>0.066667</td>\n",
       "      <td>2.847222</td>\n",
       "      <td>1</td>\n",
       "      <td>3</td>\n",
       "      <td>3</td>\n",
       "      <td>3</td>\n",
       "      <td>2</td>\n",
       "      <td>0.629782</td>\n",
       "      <td>0.103638</td>\n",
       "    </tr>\n",
       "    <tr>\n",
       "      <th>1</th>\n",
       "      <td>0</td>\n",
       "      <td>31.384615</td>\n",
       "      <td>26.0</td>\n",
       "      <td>0.690385</td>\n",
       "      <td>0.114744</td>\n",
       "      <td>1.538051</td>\n",
       "      <td>2</td>\n",
       "      <td>3</td>\n",
       "      <td>3</td>\n",
       "      <td>3</td>\n",
       "      <td>2</td>\n",
       "      <td>0.569916</td>\n",
       "      <td>0.091083</td>\n",
       "    </tr>\n",
       "    <tr>\n",
       "      <th>2</th>\n",
       "      <td>0</td>\n",
       "      <td>67.028571</td>\n",
       "      <td>35.0</td>\n",
       "      <td>0.392857</td>\n",
       "      <td>0.253333</td>\n",
       "      <td>0.620635</td>\n",
       "      <td>2</td>\n",
       "      <td>2</td>\n",
       "      <td>1</td>\n",
       "      <td>3</td>\n",
       "      <td>3</td>\n",
       "      <td>0.427588</td>\n",
       "      <td>0.193402</td>\n",
       "    </tr>\n",
       "    <tr>\n",
       "      <th>3</th>\n",
       "      <td>0</td>\n",
       "      <td>24.461538</td>\n",
       "      <td>13.0</td>\n",
       "      <td>0.600000</td>\n",
       "      <td>0.124359</td>\n",
       "      <td>2.370151</td>\n",
       "      <td>3</td>\n",
       "      <td>2</td>\n",
       "      <td>1</td>\n",
       "      <td>3</td>\n",
       "      <td>3</td>\n",
       "      <td>1.284523</td>\n",
       "      <td>0.096132</td>\n",
       "    </tr>\n",
       "    <tr>\n",
       "      <th>4</th>\n",
       "      <td>0</td>\n",
       "      <td>20.285714</td>\n",
       "      <td>21.0</td>\n",
       "      <td>0.111905</td>\n",
       "      <td>0.140476</td>\n",
       "      <td>1.654699</td>\n",
       "      <td>2</td>\n",
       "      <td>2</td>\n",
       "      <td>1</td>\n",
       "      <td>3</td>\n",
       "      <td>3</td>\n",
       "      <td>0.114822</td>\n",
       "      <td>0.084695</td>\n",
       "    </tr>\n",
       "  </tbody>\n",
       "</table>\n",
       "</div>"
      ],
      "text/plain": [
       "   预警状态     路段平均速度  行驶时间     方向角变化      高程变化     平均加速度  温度3  相对湿度3  能见度3  \\\n",
       "0     0  24.750000  16.0  0.568750  0.066667  2.847222    1      3     3   \n",
       "1     0  31.384615  26.0  0.690385  0.114744  1.538051    2      3     3   \n",
       "2     0  67.028571  35.0  0.392857  0.253333  0.620635    2      2     1   \n",
       "3     0  24.461538  13.0  0.600000  0.124359  2.370151    3      2     1   \n",
       "4     0  20.285714  21.0  0.111905  0.140476  1.654699    2      2     1   \n",
       "\n",
       "   天气情况3  时间分段4    方向角标准差     高程标准差  \n",
       "0      3      2  0.629782  0.103638  \n",
       "1      3      2  0.569916  0.091083  \n",
       "2      3      3  0.427588  0.193402  \n",
       "3      3      3  1.284523  0.096132  \n",
       "4      3      3  0.114822  0.084695  "
      ]
     },
     "execution_count": 11,
     "metadata": {},
     "output_type": "execute_result"
    }
   ],
   "source": [
    "df = pd.read_csv(\"数据.csv\" , encoding = 'gbk')\n",
    "df.head(5)"
   ]
  },
  {
   "cell_type": "code",
   "execution_count": 12,
   "metadata": {
    "scrolled": true
   },
   "outputs": [
    {
     "data": {
      "text/html": [
       "<div>\n",
       "<style scoped>\n",
       "    .dataframe tbody tr th:only-of-type {\n",
       "        vertical-align: middle;\n",
       "    }\n",
       "\n",
       "    .dataframe tbody tr th {\n",
       "        vertical-align: top;\n",
       "    }\n",
       "\n",
       "    .dataframe thead th {\n",
       "        text-align: right;\n",
       "    }\n",
       "</style>\n",
       "<table border=\"1\" class=\"dataframe\">\n",
       "  <thead>\n",
       "    <tr style=\"text-align: right;\">\n",
       "      <th></th>\n",
       "      <th>预警状态</th>\n",
       "      <th>路段平均速度</th>\n",
       "      <th>行驶时间</th>\n",
       "      <th>方向角变化</th>\n",
       "      <th>高程变化</th>\n",
       "      <th>平均加速度</th>\n",
       "      <th>温度3</th>\n",
       "      <th>相对湿度3</th>\n",
       "      <th>能见度3</th>\n",
       "      <th>天气情况3</th>\n",
       "      <th>...</th>\n",
       "      <th>dum能见度_1</th>\n",
       "      <th>dum能见度_2</th>\n",
       "      <th>dum能见度_3</th>\n",
       "      <th>dum天气情况_1</th>\n",
       "      <th>dum天气情况_2</th>\n",
       "      <th>dum天气情况_3</th>\n",
       "      <th>dum时间分段_1</th>\n",
       "      <th>dum时间分段_2</th>\n",
       "      <th>dum时间分段_3</th>\n",
       "      <th>dum时间分段_4</th>\n",
       "    </tr>\n",
       "  </thead>\n",
       "  <tbody>\n",
       "    <tr>\n",
       "      <th>0</th>\n",
       "      <td>0</td>\n",
       "      <td>24.750000</td>\n",
       "      <td>16.0</td>\n",
       "      <td>0.568750</td>\n",
       "      <td>0.066667</td>\n",
       "      <td>2.847222</td>\n",
       "      <td>1</td>\n",
       "      <td>3</td>\n",
       "      <td>3</td>\n",
       "      <td>3</td>\n",
       "      <td>...</td>\n",
       "      <td>0</td>\n",
       "      <td>0</td>\n",
       "      <td>1</td>\n",
       "      <td>0</td>\n",
       "      <td>0</td>\n",
       "      <td>1</td>\n",
       "      <td>0</td>\n",
       "      <td>1</td>\n",
       "      <td>0</td>\n",
       "      <td>0</td>\n",
       "    </tr>\n",
       "    <tr>\n",
       "      <th>1</th>\n",
       "      <td>0</td>\n",
       "      <td>31.384615</td>\n",
       "      <td>26.0</td>\n",
       "      <td>0.690385</td>\n",
       "      <td>0.114744</td>\n",
       "      <td>1.538051</td>\n",
       "      <td>2</td>\n",
       "      <td>3</td>\n",
       "      <td>3</td>\n",
       "      <td>3</td>\n",
       "      <td>...</td>\n",
       "      <td>0</td>\n",
       "      <td>0</td>\n",
       "      <td>1</td>\n",
       "      <td>0</td>\n",
       "      <td>0</td>\n",
       "      <td>1</td>\n",
       "      <td>0</td>\n",
       "      <td>1</td>\n",
       "      <td>0</td>\n",
       "      <td>0</td>\n",
       "    </tr>\n",
       "    <tr>\n",
       "      <th>2</th>\n",
       "      <td>0</td>\n",
       "      <td>67.028571</td>\n",
       "      <td>35.0</td>\n",
       "      <td>0.392857</td>\n",
       "      <td>0.253333</td>\n",
       "      <td>0.620635</td>\n",
       "      <td>2</td>\n",
       "      <td>2</td>\n",
       "      <td>1</td>\n",
       "      <td>3</td>\n",
       "      <td>...</td>\n",
       "      <td>1</td>\n",
       "      <td>0</td>\n",
       "      <td>0</td>\n",
       "      <td>0</td>\n",
       "      <td>0</td>\n",
       "      <td>1</td>\n",
       "      <td>0</td>\n",
       "      <td>0</td>\n",
       "      <td>1</td>\n",
       "      <td>0</td>\n",
       "    </tr>\n",
       "    <tr>\n",
       "      <th>3</th>\n",
       "      <td>0</td>\n",
       "      <td>24.461538</td>\n",
       "      <td>13.0</td>\n",
       "      <td>0.600000</td>\n",
       "      <td>0.124359</td>\n",
       "      <td>2.370151</td>\n",
       "      <td>3</td>\n",
       "      <td>2</td>\n",
       "      <td>1</td>\n",
       "      <td>3</td>\n",
       "      <td>...</td>\n",
       "      <td>1</td>\n",
       "      <td>0</td>\n",
       "      <td>0</td>\n",
       "      <td>0</td>\n",
       "      <td>0</td>\n",
       "      <td>1</td>\n",
       "      <td>0</td>\n",
       "      <td>0</td>\n",
       "      <td>1</td>\n",
       "      <td>0</td>\n",
       "    </tr>\n",
       "    <tr>\n",
       "      <th>4</th>\n",
       "      <td>0</td>\n",
       "      <td>20.285714</td>\n",
       "      <td>21.0</td>\n",
       "      <td>0.111905</td>\n",
       "      <td>0.140476</td>\n",
       "      <td>1.654699</td>\n",
       "      <td>2</td>\n",
       "      <td>2</td>\n",
       "      <td>1</td>\n",
       "      <td>3</td>\n",
       "      <td>...</td>\n",
       "      <td>1</td>\n",
       "      <td>0</td>\n",
       "      <td>0</td>\n",
       "      <td>0</td>\n",
       "      <td>0</td>\n",
       "      <td>1</td>\n",
       "      <td>0</td>\n",
       "      <td>0</td>\n",
       "      <td>1</td>\n",
       "      <td>0</td>\n",
       "    </tr>\n",
       "  </tbody>\n",
       "</table>\n",
       "<p>5 rows × 29 columns</p>\n",
       "</div>"
      ],
      "text/plain": [
       "   预警状态     路段平均速度  行驶时间     方向角变化      高程变化     平均加速度  温度3  相对湿度3  能见度3  \\\n",
       "0     0  24.750000  16.0  0.568750  0.066667  2.847222    1      3     3   \n",
       "1     0  31.384615  26.0  0.690385  0.114744  1.538051    2      3     3   \n",
       "2     0  67.028571  35.0  0.392857  0.253333  0.620635    2      2     1   \n",
       "3     0  24.461538  13.0  0.600000  0.124359  2.370151    3      2     1   \n",
       "4     0  20.285714  21.0  0.111905  0.140476  1.654699    2      2     1   \n",
       "\n",
       "   天气情况3    ...      dum能见度_1  dum能见度_2  dum能见度_3  dum天气情况_1  dum天气情况_2  \\\n",
       "0      3    ...             0         0         1          0          0   \n",
       "1      3    ...             0         0         1          0          0   \n",
       "2      3    ...             1         0         0          0          0   \n",
       "3      3    ...             1         0         0          0          0   \n",
       "4      3    ...             1         0         0          0          0   \n",
       "\n",
       "   dum天气情况_3  dum时间分段_1  dum时间分段_2  dum时间分段_3  dum时间分段_4  \n",
       "0          1          0          1          0          0  \n",
       "1          1          0          1          0          0  \n",
       "2          1          0          0          1          0  \n",
       "3          1          0          0          1          0  \n",
       "4          1          0          0          1          0  \n",
       "\n",
       "[5 rows x 29 columns]"
      ]
     },
     "execution_count": 12,
     "metadata": {},
     "output_type": "execute_result"
    }
   ],
   "source": [
    "# 设置哑变量\n",
    "df = df.join(pd.get_dummies(df['温度3'] , prefix = 'dum温度'))\n",
    "df = df.join(pd.get_dummies(df['相对湿度3'] , prefix = 'dum相对湿度'))\n",
    "df = df.join(pd.get_dummies(df['能见度3'] , prefix = 'dum能见度'))\n",
    "df = df.join(pd.get_dummies(df['天气情况3'] , prefix = 'dum天气情况'))\n",
    "df = df.join(pd.get_dummies(df['时间分段4'] , prefix = 'dum时间分段'))\n",
    "df.head(5)"
   ]
  },
  {
   "cell_type": "code",
   "execution_count": 34,
   "metadata": {},
   "outputs": [],
   "source": [
    "trainset = df[['路段平均速度','行驶时间' , '方向角变化' , '高程变化' , '平均加速度' , '方向角标准差','高程标准差','dum温度_1','dum温度_2',\\\n",
    "              'dum温度_3','dum相对湿度_1','dum相对湿度_2','dum相对湿度_3','dum能见度_1','dum能见度_2','dum能见度_3','dum天气情况_1',\\\n",
    "              'dum天气情况_2','dum天气情况_3','dum时间分段_1','dum时间分段_2','dum时间分段_3','dum时间分段_4']].values\n",
    "target = list(df['预警状态'])"
   ]
  },
  {
   "cell_type": "code",
   "execution_count": 39,
   "metadata": {},
   "outputs": [],
   "source": [
    "min_max_scaler = preprocessing.MinMaxScaler()\n",
    "trainset_minmax = min_max_scaler.fit_transform(trainset)"
   ]
  },
  {
   "cell_type": "markdown",
   "metadata": {},
   "source": [
    "**svm各个feature的特征重要性排序**\n",
    "\n",
    "下面输出了各个特征的重要性排序，1就是最终要的特征，依次类推。我这边没有使用z-score归一化,使用的是min max归一化，这种方式是可以对分类和连续变量都做的，所以我认为在这种归一化下分类变量和连续变量的重要性也是也是可以比较的。没有参考文献，是我自己的理解。（你也可以问问你导师的看法，如果你能把你导师的意见告诉我下，将不胜感激，hhh）其实不严格的说，哪怕做了z-score，你直接把分类变量和连续变量进行重要性比较问题也不大，基本也可以认为是准的，当然从推导来说，我觉得不严谨。"
   ]
  },
  {
   "cell_type": "code",
   "execution_count": 79,
   "metadata": {
    "scrolled": true
   },
   "outputs": [
    {
     "name": "stdout",
     "output_type": "stream",
     "text": [
      "The feature that has been selected [False False False False False False False False False False False False\n",
      " False False False False False  True False False False False False]\n",
      "selected features' rankings [13  7  8 12  6  4  5 21 23 16 19 11 10 15 22 18  2  1  3 17 14 20  9]\n"
     ]
    }
   ],
   "source": [
    "# 使用svm-RBF做特征重要性排序\n",
    "estimator = SVC(kernel=\"linear\")\n",
    "selector = RFE(estimator, 1, step=1)\n",
    "selector = selector.fit(trainset_minmax, target)\n",
    "print(\"The feature that has been selected\" , selector.support_)  # Get a mask, or integer index, of the features selected\n",
    "print(\"selected features' rankings\" , selector.ranking_)"
   ]
  },
  {
   "cell_type": "markdown",
   "metadata": {},
   "source": [
    "**svm做预测**\n",
    "\n",
    "现在我能理解为什么你的论文里是直接做预测的，因为你看重的各个特征的排序效果，而不是预测结果，所以可能就没那么严格用测试集、训练集来搞了，我这边就按照你的那篇参考文献来了。下面的svm模型做了特征选择，最后是留下了一半的feature做预测的结果"
   ]
  },
  {
   "cell_type": "code",
   "execution_count": 80,
   "metadata": {
    "scrolled": true
   },
   "outputs": [
    {
     "name": "stdout",
     "output_type": "stream",
     "text": [
      "The feature that has been selected [False  True  True False  True  True  True False False False False  True\n",
      "  True False False False  True  True  True False False False  True]\n",
      "selected features' rankings [ 3  1  1  2  1  1  1 11 13  6  9  1  1  5 12  8  1  1  1  7  4 10  1]\n"
     ]
    }
   ],
   "source": [
    "# 使用svm-RBF做特征重要性排序\n",
    "estimator = SVC(C=1.0,kernel=\"linear\")\n",
    "selector = RFE(estimator,step=1)\n",
    "selector = selector.fit(trainset_minmax, target)\n",
    "print(\"The feature that has been selected\" , selector.support_)  # Get a mask, or integer index, of the features selected\n",
    "print(\"selected features' rankings\" , selector.ranking_)"
   ]
  },
  {
   "cell_type": "code",
   "execution_count": 81,
   "metadata": {},
   "outputs": [
    {
     "data": {
      "text/plain": [
       "0.6877323420074349"
      ]
     },
     "execution_count": 81,
     "metadata": {},
     "output_type": "execute_result"
    }
   ],
   "source": [
    "selector.score(trainset_minmax , target)"
   ]
  },
  {
   "cell_type": "markdown",
   "metadata": {},
   "source": [
    "**随机森林各个feature的特征重要性排序**"
   ]
  },
  {
   "cell_type": "code",
   "execution_count": 104,
   "metadata": {
    "scrolled": true
   },
   "outputs": [
    {
     "name": "stdout",
     "output_type": "stream",
     "text": [
      "The feature that has been selected [False False False False False  True False False False False False False\n",
      " False False False False False False False False False False False]\n",
      "selected features' rankings [ 2  7  5  3  4  1  6 11 15  9 22 17 13 10 21 19 23 18 16  8 20 14 12]\n"
     ]
    }
   ],
   "source": [
    "# 使用svm-RBF做特征重要性排序\n",
    "estimator = RandomForestRegressor(n_estimators=100)\n",
    "selector = RFE(estimator, 1, step=1)\n",
    "selector = selector.fit(trainset_minmax, target)\n",
    "print(\"The feature that has been selected\" , selector.support_)  # Get a mask, or integer index, of the features selected\n",
    "print(\"selected features' rankings\" , selector.ranking_)"
   ]
  },
  {
   "cell_type": "markdown",
   "metadata": {},
   "source": [
    "**随机森林做预测**"
   ]
  },
  {
   "cell_type": "code",
   "execution_count": 103,
   "metadata": {},
   "outputs": [
    {
     "name": "stdout",
     "output_type": "stream",
     "text": [
      "The feature that has been selected [ True  True  True  True  True  True  True  True False  True False False\n",
      " False  True False False False False False  True False False False]\n",
      "selected features' rankings [ 1  1  1  1  1  1  1  1  6  1 10 11  2  1 12  9 13  7  5  1  8  4  3]\n"
     ]
    }
   ],
   "source": [
    "# 使用svm-RBF做特征重要性排序\n",
    "estimator = RandomForestRegressor(n_estimators=100)\n",
    "selector = RFE(estimator,step=1)\n",
    "selector = selector.fit(trainset_minmax, target)\n",
    "print(\"The feature that has been selected\" , selector.support_)  # Get a mask, or integer index, of the features selected\n",
    "print(\"selected features' rankings\" , selector.ranking_)"
   ]
  },
  {
   "cell_type": "code",
   "execution_count": 102,
   "metadata": {},
   "outputs": [
    {
     "data": {
      "text/plain": [
       "0.8782949195484354"
      ]
     },
     "execution_count": 102,
     "metadata": {},
     "output_type": "execute_result"
    }
   ],
   "source": [
    "selector.score(trainset_minmax , target)"
   ]
  }
 ],
 "metadata": {
  "kernelspec": {
   "display_name": "Python 3",
   "language": "python",
   "name": "python3"
  },
  "language_info": {
   "codemirror_mode": {
    "name": "ipython",
    "version": 3
   },
   "file_extension": ".py",
   "mimetype": "text/x-python",
   "name": "python",
   "nbconvert_exporter": "python",
   "pygments_lexer": "ipython3",
   "version": "3.5.5"
  }
 },
 "nbformat": 4,
 "nbformat_minor": 2
}
